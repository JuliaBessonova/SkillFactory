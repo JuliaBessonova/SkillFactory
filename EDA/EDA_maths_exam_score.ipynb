{
 "cells": [
  {
   "cell_type": "markdown",
   "metadata": {},
   "source": [
    "Цель проекта — отследить влияние условий жизни учащихся в возрасте от 15 до 22 лет на их успеваемость по математике, чтобы на ранней стадии выявлять студентов, находящихся в группе риска."
   ]
  },
  {
   "cell_type": "code",
   "execution_count": 74,
   "metadata": {},
   "outputs": [
    {
     "data": {
      "text/html": [
       "<div>\n",
       "<style scoped>\n",
       "    .dataframe tbody tr th:only-of-type {\n",
       "        vertical-align: middle;\n",
       "    }\n",
       "\n",
       "    .dataframe tbody tr th {\n",
       "        vertical-align: top;\n",
       "    }\n",
       "\n",
       "    .dataframe thead th {\n",
       "        text-align: right;\n",
       "    }\n",
       "</style>\n",
       "<table border=\"1\" class=\"dataframe\">\n",
       "  <thead>\n",
       "    <tr style=\"text-align: right;\">\n",
       "      <th></th>\n",
       "      <th>school</th>\n",
       "      <th>sex</th>\n",
       "      <th>age</th>\n",
       "      <th>address</th>\n",
       "      <th>famsize</th>\n",
       "      <th>Pstatus</th>\n",
       "      <th>Medu</th>\n",
       "      <th>Fedu</th>\n",
       "      <th>Mjob</th>\n",
       "      <th>Fjob</th>\n",
       "      <th>reason</th>\n",
       "      <th>guardian</th>\n",
       "      <th>traveltime</th>\n",
       "      <th>studytime</th>\n",
       "      <th>failures</th>\n",
       "      <th>schoolsup</th>\n",
       "      <th>famsup</th>\n",
       "      <th>paid</th>\n",
       "      <th>activities</th>\n",
       "      <th>nursery</th>\n",
       "      <th>studytime, granular</th>\n",
       "      <th>higher</th>\n",
       "      <th>internet</th>\n",
       "      <th>romantic</th>\n",
       "      <th>famrel</th>\n",
       "      <th>freetime</th>\n",
       "      <th>goout</th>\n",
       "      <th>health</th>\n",
       "      <th>absences</th>\n",
       "      <th>score</th>\n",
       "    </tr>\n",
       "  </thead>\n",
       "  <tbody>\n",
       "    <tr>\n",
       "      <td>0</td>\n",
       "      <td>GP</td>\n",
       "      <td>F</td>\n",
       "      <td>18</td>\n",
       "      <td>U</td>\n",
       "      <td>NaN</td>\n",
       "      <td>A</td>\n",
       "      <td>4.0</td>\n",
       "      <td>4.0</td>\n",
       "      <td>at_home</td>\n",
       "      <td>teacher</td>\n",
       "      <td>course</td>\n",
       "      <td>mother</td>\n",
       "      <td>2.0</td>\n",
       "      <td>2.0</td>\n",
       "      <td>0.0</td>\n",
       "      <td>yes</td>\n",
       "      <td>no</td>\n",
       "      <td>no</td>\n",
       "      <td>no</td>\n",
       "      <td>yes</td>\n",
       "      <td>-6.0</td>\n",
       "      <td>yes</td>\n",
       "      <td>NaN</td>\n",
       "      <td>no</td>\n",
       "      <td>4.0</td>\n",
       "      <td>3.0</td>\n",
       "      <td>4.0</td>\n",
       "      <td>3.0</td>\n",
       "      <td>6.0</td>\n",
       "      <td>30.0</td>\n",
       "    </tr>\n",
       "    <tr>\n",
       "      <td>1</td>\n",
       "      <td>GP</td>\n",
       "      <td>F</td>\n",
       "      <td>17</td>\n",
       "      <td>U</td>\n",
       "      <td>GT3</td>\n",
       "      <td>NaN</td>\n",
       "      <td>1.0</td>\n",
       "      <td>1.0</td>\n",
       "      <td>at_home</td>\n",
       "      <td>other</td>\n",
       "      <td>course</td>\n",
       "      <td>father</td>\n",
       "      <td>1.0</td>\n",
       "      <td>2.0</td>\n",
       "      <td>0.0</td>\n",
       "      <td>no</td>\n",
       "      <td>yes</td>\n",
       "      <td>no</td>\n",
       "      <td>no</td>\n",
       "      <td>no</td>\n",
       "      <td>-6.0</td>\n",
       "      <td>yes</td>\n",
       "      <td>yes</td>\n",
       "      <td>no</td>\n",
       "      <td>5.0</td>\n",
       "      <td>3.0</td>\n",
       "      <td>3.0</td>\n",
       "      <td>3.0</td>\n",
       "      <td>4.0</td>\n",
       "      <td>30.0</td>\n",
       "    </tr>\n",
       "    <tr>\n",
       "      <td>2</td>\n",
       "      <td>GP</td>\n",
       "      <td>F</td>\n",
       "      <td>15</td>\n",
       "      <td>U</td>\n",
       "      <td>LE3</td>\n",
       "      <td>T</td>\n",
       "      <td>1.0</td>\n",
       "      <td>1.0</td>\n",
       "      <td>at_home</td>\n",
       "      <td>other</td>\n",
       "      <td>other</td>\n",
       "      <td>mother</td>\n",
       "      <td>1.0</td>\n",
       "      <td>2.0</td>\n",
       "      <td>3.0</td>\n",
       "      <td>yes</td>\n",
       "      <td>no</td>\n",
       "      <td>NaN</td>\n",
       "      <td>no</td>\n",
       "      <td>yes</td>\n",
       "      <td>-6.0</td>\n",
       "      <td>yes</td>\n",
       "      <td>yes</td>\n",
       "      <td>NaN</td>\n",
       "      <td>4.0</td>\n",
       "      <td>3.0</td>\n",
       "      <td>2.0</td>\n",
       "      <td>3.0</td>\n",
       "      <td>10.0</td>\n",
       "      <td>50.0</td>\n",
       "    </tr>\n",
       "    <tr>\n",
       "      <td>3</td>\n",
       "      <td>GP</td>\n",
       "      <td>F</td>\n",
       "      <td>15</td>\n",
       "      <td>U</td>\n",
       "      <td>GT3</td>\n",
       "      <td>T</td>\n",
       "      <td>4.0</td>\n",
       "      <td>2.0</td>\n",
       "      <td>health</td>\n",
       "      <td>NaN</td>\n",
       "      <td>home</td>\n",
       "      <td>mother</td>\n",
       "      <td>1.0</td>\n",
       "      <td>3.0</td>\n",
       "      <td>0.0</td>\n",
       "      <td>no</td>\n",
       "      <td>yes</td>\n",
       "      <td>yes</td>\n",
       "      <td>yes</td>\n",
       "      <td>yes</td>\n",
       "      <td>-9.0</td>\n",
       "      <td>yes</td>\n",
       "      <td>yes</td>\n",
       "      <td>yes</td>\n",
       "      <td>3.0</td>\n",
       "      <td>2.0</td>\n",
       "      <td>2.0</td>\n",
       "      <td>5.0</td>\n",
       "      <td>2.0</td>\n",
       "      <td>75.0</td>\n",
       "    </tr>\n",
       "    <tr>\n",
       "      <td>4</td>\n",
       "      <td>GP</td>\n",
       "      <td>F</td>\n",
       "      <td>16</td>\n",
       "      <td>U</td>\n",
       "      <td>GT3</td>\n",
       "      <td>T</td>\n",
       "      <td>3.0</td>\n",
       "      <td>3.0</td>\n",
       "      <td>other</td>\n",
       "      <td>other</td>\n",
       "      <td>home</td>\n",
       "      <td>father</td>\n",
       "      <td>1.0</td>\n",
       "      <td>2.0</td>\n",
       "      <td>0.0</td>\n",
       "      <td>no</td>\n",
       "      <td>yes</td>\n",
       "      <td>yes</td>\n",
       "      <td>no</td>\n",
       "      <td>yes</td>\n",
       "      <td>-6.0</td>\n",
       "      <td>yes</td>\n",
       "      <td>no</td>\n",
       "      <td>no</td>\n",
       "      <td>4.0</td>\n",
       "      <td>3.0</td>\n",
       "      <td>2.0</td>\n",
       "      <td>5.0</td>\n",
       "      <td>4.0</td>\n",
       "      <td>50.0</td>\n",
       "    </tr>\n",
       "  </tbody>\n",
       "</table>\n",
       "</div>"
      ],
      "text/plain": [
       "  school sex  age address famsize Pstatus  Medu  Fedu     Mjob     Fjob  \\\n",
       "0     GP   F   18       U     NaN       A   4.0   4.0  at_home  teacher   \n",
       "1     GP   F   17       U     GT3     NaN   1.0   1.0  at_home    other   \n",
       "2     GP   F   15       U     LE3       T   1.0   1.0  at_home    other   \n",
       "3     GP   F   15       U     GT3       T   4.0   2.0   health      NaN   \n",
       "4     GP   F   16       U     GT3       T   3.0   3.0    other    other   \n",
       "\n",
       "   reason guardian  traveltime  studytime  failures schoolsup famsup paid  \\\n",
       "0  course   mother         2.0        2.0       0.0       yes     no   no   \n",
       "1  course   father         1.0        2.0       0.0        no    yes   no   \n",
       "2   other   mother         1.0        2.0       3.0       yes     no  NaN   \n",
       "3    home   mother         1.0        3.0       0.0        no    yes  yes   \n",
       "4    home   father         1.0        2.0       0.0        no    yes  yes   \n",
       "\n",
       "  activities nursery  studytime, granular higher internet romantic  famrel  \\\n",
       "0         no     yes                 -6.0    yes      NaN       no     4.0   \n",
       "1         no      no                 -6.0    yes      yes       no     5.0   \n",
       "2         no     yes                 -6.0    yes      yes      NaN     4.0   \n",
       "3        yes     yes                 -9.0    yes      yes      yes     3.0   \n",
       "4         no     yes                 -6.0    yes       no       no     4.0   \n",
       "\n",
       "   freetime  goout  health  absences  score  \n",
       "0       3.0    4.0     3.0       6.0   30.0  \n",
       "1       3.0    3.0     3.0       4.0   30.0  \n",
       "2       3.0    2.0     3.0      10.0   50.0  \n",
       "3       2.0    2.0     5.0       2.0   75.0  \n",
       "4       3.0    2.0     5.0       4.0   50.0  "
      ]
     },
     "execution_count": 74,
     "metadata": {},
     "output_type": "execute_result"
    }
   ],
   "source": [
    "import pandas as pd\n",
    "import matplotlib.pyplot as plt\n",
    "import seaborn as sns\n",
    "from itertools import combinations\n",
    "from scipy.stats import ttest_ind\n",
    "\n",
    "pd.set_option('display.max_rows', 50)\n",
    "pd.set_option('display.max_columns', 50)\n",
    "\n",
    "data = pd.read_csv('stud_math.csv')\n",
    "data.head()"
   ]
  },
  {
   "cell_type": "code",
   "execution_count": 75,
   "metadata": {},
   "outputs": [
    {
     "name": "stdout",
     "output_type": "stream",
     "text": [
      "<class 'pandas.core.frame.DataFrame'>\n",
      "RangeIndex: 395 entries, 0 to 394\n",
      "Data columns (total 30 columns):\n",
      "school                 395 non-null object\n",
      "sex                    395 non-null object\n",
      "age                    395 non-null int64\n",
      "address                378 non-null object\n",
      "famsize                368 non-null object\n",
      "Pstatus                350 non-null object\n",
      "Medu                   392 non-null float64\n",
      "Fedu                   371 non-null float64\n",
      "Mjob                   376 non-null object\n",
      "Fjob                   359 non-null object\n",
      "reason                 378 non-null object\n",
      "guardian               364 non-null object\n",
      "traveltime             367 non-null float64\n",
      "studytime              388 non-null float64\n",
      "failures               373 non-null float64\n",
      "schoolsup              386 non-null object\n",
      "famsup                 356 non-null object\n",
      "paid                   355 non-null object\n",
      "activities             381 non-null object\n",
      "nursery                379 non-null object\n",
      "studytime, granular    388 non-null float64\n",
      "higher                 375 non-null object\n",
      "internet               361 non-null object\n",
      "romantic               364 non-null object\n",
      "famrel                 368 non-null float64\n",
      "freetime               384 non-null float64\n",
      "goout                  387 non-null float64\n",
      "health                 380 non-null float64\n",
      "absences               383 non-null float64\n",
      "score                  389 non-null float64\n",
      "dtypes: float64(12), int64(1), object(17)\n",
      "memory usage: 92.7+ KB\n"
     ]
    }
   ],
   "source": [
    "data.info()"
   ]
  },
  {
   "cell_type": "markdown",
   "metadata": {},
   "source": [
    "Видим, что у нас 30 признаков - 13 количественных и 17 номинативных. Также видим, что у 8 признаков присутствуют только два значения - yes и no, ниже приведем их к виду 1 и 0."
   ]
  },
  {
   "cell_type": "code",
   "execution_count": 76,
   "metadata": {},
   "outputs": [],
   "source": [
    "# переименуем столбец studytime, granular\n",
    "\n",
    "data.rename(columns = {'studytime, granular': 'studytime_granular'}, inplace = True)"
   ]
  },
  {
   "cell_type": "markdown",
   "metadata": {},
   "source": [
    "В датасете есть признаки (schoolsup, famsup, paid, activities, nursery, higher, internet, romantic), которые принимают значения да или нет. Изменим эти значения на 1, если значение да, и 0, если значение нет."
   ]
  },
  {
   "cell_type": "code",
   "execution_count": 77,
   "metadata": {},
   "outputs": [],
   "source": [
    "# напишем функцию, для признаков, у которых только 2 значения\n",
    "def to_bool(x):\n",
    "    if pd.isnull(x):\n",
    "        return x\n",
    "    if x == 'yes':\n",
    "        return 1\n",
    "    if x == 'no':\n",
    "        return 0\n",
    "    if x == 'GP':\n",
    "        return 1\n",
    "    if x == 'MS':\n",
    "        return 0\n",
    "    if x == 'F':\n",
    "        return 1\n",
    "    if x == 'M':\n",
    "        return 0\n",
    "    if x == 'U':\n",
    "        return 1\n",
    "    if x == 'R':\n",
    "        return 0\n",
    "    if x == 'T':\n",
    "        return 1\n",
    "    if x == 'A':\n",
    "        return 0\n",
    "    if x == 'GT3':\n",
    "        return 1\n",
    "    if x == 'LE3':\n",
    "        return 0"
   ]
  },
  {
   "cell_type": "code",
   "execution_count": 78,
   "metadata": {},
   "outputs": [],
   "source": [
    "# применим функцию to_bool к нужным столбцам, у которым в данных всего 2 значения - yes и no\n",
    "\n",
    "columns = ['schoolsup', 'famsup', 'paid', 'activities', 'nursery', 'higher', 'internet','romantic']\n",
    "\n",
    "for item in columns:\n",
    "    data[item] = data[item].apply(to_bool)"
   ]
  },
  {
   "cell_type": "code",
   "execution_count": null,
   "metadata": {},
   "outputs": [],
   "source": [
    "# school"
   ]
  },
  {
   "cell_type": "code",
   "execution_count": 79,
   "metadata": {},
   "outputs": [
    {
     "data": {
      "text/html": [
       "<div>\n",
       "<style scoped>\n",
       "    .dataframe tbody tr th:only-of-type {\n",
       "        vertical-align: middle;\n",
       "    }\n",
       "\n",
       "    .dataframe tbody tr th {\n",
       "        vertical-align: top;\n",
       "    }\n",
       "\n",
       "    .dataframe thead th {\n",
       "        text-align: right;\n",
       "    }\n",
       "</style>\n",
       "<table border=\"1\" class=\"dataframe\">\n",
       "  <thead>\n",
       "    <tr style=\"text-align: right;\">\n",
       "      <th></th>\n",
       "      <th>school</th>\n",
       "    </tr>\n",
       "  </thead>\n",
       "  <tbody>\n",
       "    <tr>\n",
       "      <td>GP</td>\n",
       "      <td>349</td>\n",
       "    </tr>\n",
       "    <tr>\n",
       "      <td>MS</td>\n",
       "      <td>46</td>\n",
       "    </tr>\n",
       "  </tbody>\n",
       "</table>\n",
       "</div>"
      ],
      "text/plain": [
       "    school\n",
       "GP     349\n",
       "MS      46"
      ]
     },
     "metadata": {},
     "output_type": "display_data"
    },
    {
     "name": "stdout",
     "output_type": "stream",
     "text": [
      "<class 'pandas.core.frame.DataFrame'>\n",
      "RangeIndex: 395 entries, 0 to 394\n",
      "Data columns (total 1 columns):\n",
      "school    395 non-null object\n",
      "dtypes: object(1)\n",
      "memory usage: 3.2+ KB\n"
     ]
    }
   ],
   "source": [
    "display(pd.DataFrame(data.school.value_counts()))\n",
    "data.loc[:,['school']].info()"
   ]
  },
  {
   "cell_type": "code",
   "execution_count": 80,
   "metadata": {},
   "outputs": [
    {
     "name": "stdout",
     "output_type": "stream",
     "text": [
      "Количество уникальных значений: 2\n",
      "Количество пропусков: 0\n"
     ]
    }
   ],
   "source": [
    "print('Количество уникальных значений:', data.school.nunique())\n",
    "print('Количество пропусков:', data.school.isnull().sum())"
   ]
  },
  {
   "cell_type": "markdown",
   "metadata": {},
   "source": [
    "В нашем датафрейме присутствуют представители двух школ, причем представителей школы GP в семь раз больше, чем школы MS. Пропусков у данного признака нет."
   ]
  },
  {
   "cell_type": "code",
   "execution_count": null,
   "metadata": {},
   "outputs": [],
   "source": [
    "# sex"
   ]
  },
  {
   "cell_type": "code",
   "execution_count": 81,
   "metadata": {},
   "outputs": [
    {
     "data": {
      "text/html": [
       "<div>\n",
       "<style scoped>\n",
       "    .dataframe tbody tr th:only-of-type {\n",
       "        vertical-align: middle;\n",
       "    }\n",
       "\n",
       "    .dataframe tbody tr th {\n",
       "        vertical-align: top;\n",
       "    }\n",
       "\n",
       "    .dataframe thead th {\n",
       "        text-align: right;\n",
       "    }\n",
       "</style>\n",
       "<table border=\"1\" class=\"dataframe\">\n",
       "  <thead>\n",
       "    <tr style=\"text-align: right;\">\n",
       "      <th></th>\n",
       "      <th>sex</th>\n",
       "    </tr>\n",
       "  </thead>\n",
       "  <tbody>\n",
       "    <tr>\n",
       "      <td>F</td>\n",
       "      <td>208</td>\n",
       "    </tr>\n",
       "    <tr>\n",
       "      <td>M</td>\n",
       "      <td>187</td>\n",
       "    </tr>\n",
       "  </tbody>\n",
       "</table>\n",
       "</div>"
      ],
      "text/plain": [
       "   sex\n",
       "F  208\n",
       "M  187"
      ]
     },
     "metadata": {},
     "output_type": "display_data"
    },
    {
     "name": "stdout",
     "output_type": "stream",
     "text": [
      "<class 'pandas.core.frame.DataFrame'>\n",
      "RangeIndex: 395 entries, 0 to 394\n",
      "Data columns (total 1 columns):\n",
      "sex    395 non-null object\n",
      "dtypes: object(1)\n",
      "memory usage: 3.2+ KB\n"
     ]
    }
   ],
   "source": [
    "display(pd.DataFrame(data.sex.value_counts()))\n",
    "data.loc[:,['sex']].info()"
   ]
  },
  {
   "cell_type": "code",
   "execution_count": 82,
   "metadata": {},
   "outputs": [
    {
     "name": "stdout",
     "output_type": "stream",
     "text": [
      "Количество уникальных значений: 2\n",
      "Количество пропусков: 0\n"
     ]
    }
   ],
   "source": [
    "print('Количество уникальных значений:', data.sex.nunique())\n",
    "print('Количество пропусков:', data.sex.isnull().sum())"
   ]
  },
  {
   "cell_type": "markdown",
   "metadata": {},
   "source": [
    "В данных присутствуют представители обоих полов, причем девочек немного больше, чем мальчиков. Пропусков у данного признака нет."
   ]
  },
  {
   "cell_type": "code",
   "execution_count": null,
   "metadata": {},
   "outputs": [],
   "source": [
    "# age"
   ]
  },
  {
   "cell_type": "code",
   "execution_count": 83,
   "metadata": {},
   "outputs": [
    {
     "data": {
      "text/html": [
       "<div>\n",
       "<style scoped>\n",
       "    .dataframe tbody tr th:only-of-type {\n",
       "        vertical-align: middle;\n",
       "    }\n",
       "\n",
       "    .dataframe tbody tr th {\n",
       "        vertical-align: top;\n",
       "    }\n",
       "\n",
       "    .dataframe thead th {\n",
       "        text-align: right;\n",
       "    }\n",
       "</style>\n",
       "<table border=\"1\" class=\"dataframe\">\n",
       "  <thead>\n",
       "    <tr style=\"text-align: right;\">\n",
       "      <th></th>\n",
       "      <th>age</th>\n",
       "    </tr>\n",
       "  </thead>\n",
       "  <tbody>\n",
       "    <tr>\n",
       "      <td>16</td>\n",
       "      <td>104</td>\n",
       "    </tr>\n",
       "    <tr>\n",
       "      <td>17</td>\n",
       "      <td>98</td>\n",
       "    </tr>\n",
       "    <tr>\n",
       "      <td>18</td>\n",
       "      <td>82</td>\n",
       "    </tr>\n",
       "    <tr>\n",
       "      <td>15</td>\n",
       "      <td>82</td>\n",
       "    </tr>\n",
       "    <tr>\n",
       "      <td>19</td>\n",
       "      <td>24</td>\n",
       "    </tr>\n",
       "    <tr>\n",
       "      <td>20</td>\n",
       "      <td>3</td>\n",
       "    </tr>\n",
       "    <tr>\n",
       "      <td>22</td>\n",
       "      <td>1</td>\n",
       "    </tr>\n",
       "    <tr>\n",
       "      <td>21</td>\n",
       "      <td>1</td>\n",
       "    </tr>\n",
       "  </tbody>\n",
       "</table>\n",
       "</div>"
      ],
      "text/plain": [
       "    age\n",
       "16  104\n",
       "17   98\n",
       "18   82\n",
       "15   82\n",
       "19   24\n",
       "20    3\n",
       "22    1\n",
       "21    1"
      ]
     },
     "metadata": {},
     "output_type": "display_data"
    },
    {
     "name": "stdout",
     "output_type": "stream",
     "text": [
      "<class 'pandas.core.frame.DataFrame'>\n",
      "RangeIndex: 395 entries, 0 to 394\n",
      "Data columns (total 1 columns):\n",
      "age    395 non-null int64\n",
      "dtypes: int64(1)\n",
      "memory usage: 3.2 KB\n"
     ]
    }
   ],
   "source": [
    "display(pd.DataFrame(data.age.value_counts()))\n",
    "data.loc[:,['age']].info()"
   ]
  },
  {
   "cell_type": "code",
   "execution_count": 84,
   "metadata": {},
   "outputs": [
    {
     "name": "stdout",
     "output_type": "stream",
     "text": [
      "Количество уникальных значений: 8\n",
      "Количество пропусков: 0\n"
     ]
    }
   ],
   "source": [
    "print('Количество уникальных значений:', data.age.nunique())\n",
    "print('Количество пропусков:', data.age.isnull().sum())"
   ]
  },
  {
   "cell_type": "markdown",
   "metadata": {},
   "source": [
    "В датасете присутствуют ученики в возрасте от 15 до 22 лет, возласт большинства представителей от 15 до 18 лет. Пропусков у данного признака нет."
   ]
  },
  {
   "cell_type": "code",
   "execution_count": null,
   "metadata": {},
   "outputs": [],
   "source": [
    "# address"
   ]
  },
  {
   "cell_type": "code",
   "execution_count": 85,
   "metadata": {},
   "outputs": [
    {
     "data": {
      "text/html": [
       "<div>\n",
       "<style scoped>\n",
       "    .dataframe tbody tr th:only-of-type {\n",
       "        vertical-align: middle;\n",
       "    }\n",
       "\n",
       "    .dataframe tbody tr th {\n",
       "        vertical-align: top;\n",
       "    }\n",
       "\n",
       "    .dataframe thead th {\n",
       "        text-align: right;\n",
       "    }\n",
       "</style>\n",
       "<table border=\"1\" class=\"dataframe\">\n",
       "  <thead>\n",
       "    <tr style=\"text-align: right;\">\n",
       "      <th></th>\n",
       "      <th>address</th>\n",
       "    </tr>\n",
       "  </thead>\n",
       "  <tbody>\n",
       "    <tr>\n",
       "      <td>U</td>\n",
       "      <td>295</td>\n",
       "    </tr>\n",
       "    <tr>\n",
       "      <td>R</td>\n",
       "      <td>83</td>\n",
       "    </tr>\n",
       "  </tbody>\n",
       "</table>\n",
       "</div>"
      ],
      "text/plain": [
       "   address\n",
       "U      295\n",
       "R       83"
      ]
     },
     "metadata": {},
     "output_type": "display_data"
    },
    {
     "name": "stdout",
     "output_type": "stream",
     "text": [
      "<class 'pandas.core.frame.DataFrame'>\n",
      "RangeIndex: 395 entries, 0 to 394\n",
      "Data columns (total 1 columns):\n",
      "address    378 non-null object\n",
      "dtypes: object(1)\n",
      "memory usage: 3.2+ KB\n"
     ]
    }
   ],
   "source": [
    "display(pd.DataFrame(data.address.value_counts()))\n",
    "data.loc[:,['address']].info()"
   ]
  },
  {
   "cell_type": "code",
   "execution_count": 86,
   "metadata": {},
   "outputs": [
    {
     "name": "stdout",
     "output_type": "stream",
     "text": [
      "Количество уникальных значений: 2\n",
      "Количество пропусков: 17\n"
     ]
    }
   ],
   "source": [
    "print('Количество уникальных значений:', data.address.nunique())\n",
    "print('Количество пропусков:', data.address.isnull().sum())"
   ]
  },
  {
   "cell_type": "markdown",
   "metadata": {},
   "source": [
    "Учеников, живущих в городе, в 3.5 раза больше, чем учеников, живущих за городом. Есть некоторое количество пропусков. Заполним их самым часть встречающимся значением."
   ]
  },
  {
   "cell_type": "code",
   "execution_count": 87,
   "metadata": {},
   "outputs": [],
   "source": [
    "freq = data.address.loc[data.address.value_counts().max()]\n",
    "\n",
    "data.address = data.address.apply(lambda x: freq if pd.isnull(x) else x)"
   ]
  },
  {
   "cell_type": "code",
   "execution_count": null,
   "metadata": {},
   "outputs": [],
   "source": [
    "# famsize"
   ]
  },
  {
   "cell_type": "code",
   "execution_count": 88,
   "metadata": {},
   "outputs": [
    {
     "data": {
      "text/html": [
       "<div>\n",
       "<style scoped>\n",
       "    .dataframe tbody tr th:only-of-type {\n",
       "        vertical-align: middle;\n",
       "    }\n",
       "\n",
       "    .dataframe tbody tr th {\n",
       "        vertical-align: top;\n",
       "    }\n",
       "\n",
       "    .dataframe thead th {\n",
       "        text-align: right;\n",
       "    }\n",
       "</style>\n",
       "<table border=\"1\" class=\"dataframe\">\n",
       "  <thead>\n",
       "    <tr style=\"text-align: right;\">\n",
       "      <th></th>\n",
       "      <th>famsize</th>\n",
       "    </tr>\n",
       "  </thead>\n",
       "  <tbody>\n",
       "    <tr>\n",
       "      <td>GT3</td>\n",
       "      <td>261</td>\n",
       "    </tr>\n",
       "    <tr>\n",
       "      <td>LE3</td>\n",
       "      <td>107</td>\n",
       "    </tr>\n",
       "  </tbody>\n",
       "</table>\n",
       "</div>"
      ],
      "text/plain": [
       "     famsize\n",
       "GT3      261\n",
       "LE3      107"
      ]
     },
     "metadata": {},
     "output_type": "display_data"
    },
    {
     "name": "stdout",
     "output_type": "stream",
     "text": [
      "<class 'pandas.core.frame.DataFrame'>\n",
      "RangeIndex: 395 entries, 0 to 394\n",
      "Data columns (total 1 columns):\n",
      "famsize    368 non-null object\n",
      "dtypes: object(1)\n",
      "memory usage: 3.2+ KB\n"
     ]
    }
   ],
   "source": [
    "display(pd.DataFrame(data.famsize.value_counts()))\n",
    "data.loc[:,['famsize']].info()"
   ]
  },
  {
   "cell_type": "code",
   "execution_count": 50,
   "metadata": {},
   "outputs": [
    {
     "name": "stdout",
     "output_type": "stream",
     "text": [
      "Количество уникальных значений: 2\n",
      "Количество пропусков: 27\n"
     ]
    }
   ],
   "source": [
    "print('Количество уникальных значений:', data.famsize.nunique())\n",
    "print('Количество пропусков:', data.famsize.isnull().sum())"
   ]
  },
  {
   "cell_type": "markdown",
   "metadata": {},
   "source": [
    "Учеников, живущих в семьях, где количество человек не превосходит 3-х, в два раза меньше, чем учеников, в семьях которых больше 3-х человек. Есть небольшое количество пропусков, заполним их наиболее частым значением."
   ]
  },
  {
   "cell_type": "code",
   "execution_count": 89,
   "metadata": {},
   "outputs": [],
   "source": [
    "freq_famsize = data.famsize.loc[data.famsize.value_counts().max()]\n",
    "\n",
    "data.famsize = data.famsize.apply(lambda x: freq_famsize if pd.isnull(x) else x)"
   ]
  },
  {
   "cell_type": "code",
   "execution_count": null,
   "metadata": {},
   "outputs": [],
   "source": [
    "# Pstatus"
   ]
  },
  {
   "cell_type": "code",
   "execution_count": 90,
   "metadata": {},
   "outputs": [
    {
     "data": {
      "text/html": [
       "<div>\n",
       "<style scoped>\n",
       "    .dataframe tbody tr th:only-of-type {\n",
       "        vertical-align: middle;\n",
       "    }\n",
       "\n",
       "    .dataframe tbody tr th {\n",
       "        vertical-align: top;\n",
       "    }\n",
       "\n",
       "    .dataframe thead th {\n",
       "        text-align: right;\n",
       "    }\n",
       "</style>\n",
       "<table border=\"1\" class=\"dataframe\">\n",
       "  <thead>\n",
       "    <tr style=\"text-align: right;\">\n",
       "      <th></th>\n",
       "      <th>Pstatus</th>\n",
       "    </tr>\n",
       "  </thead>\n",
       "  <tbody>\n",
       "    <tr>\n",
       "      <td>T</td>\n",
       "      <td>314</td>\n",
       "    </tr>\n",
       "    <tr>\n",
       "      <td>A</td>\n",
       "      <td>36</td>\n",
       "    </tr>\n",
       "  </tbody>\n",
       "</table>\n",
       "</div>"
      ],
      "text/plain": [
       "   Pstatus\n",
       "T      314\n",
       "A       36"
      ]
     },
     "metadata": {},
     "output_type": "display_data"
    },
    {
     "name": "stdout",
     "output_type": "stream",
     "text": [
      "<class 'pandas.core.frame.DataFrame'>\n",
      "RangeIndex: 395 entries, 0 to 394\n",
      "Data columns (total 1 columns):\n",
      "Pstatus    350 non-null object\n",
      "dtypes: object(1)\n",
      "memory usage: 3.2+ KB\n"
     ]
    }
   ],
   "source": [
    "display(pd.DataFrame(data.Pstatus.value_counts()))\n",
    "data.loc[:,['Pstatus']].info()"
   ]
  },
  {
   "cell_type": "code",
   "execution_count": 91,
   "metadata": {},
   "outputs": [
    {
     "name": "stdout",
     "output_type": "stream",
     "text": [
      "Количество уникальных значений: 2\n",
      "Количество пропусков: 45\n"
     ]
    }
   ],
   "source": [
    "print('Количество уникальных значений:', data.Pstatus.nunique())\n",
    "print('Количество пропусков:', data.Pstatus.isnull().sum())"
   ]
  },
  {
   "cell_type": "markdown",
   "metadata": {},
   "source": [
    "Подавляющее количество родителей учеников живут вместе (314), раздельно живут родители 36 учеников. Есть некоторое количество пропусков (45). Заменим пропуски наиболее часто встречающимся значением."
   ]
  },
  {
   "cell_type": "code",
   "execution_count": 92,
   "metadata": {},
   "outputs": [],
   "source": [
    "freq_pstatus = data.Pstatus.loc[data.Pstatus.value_counts().max()]\n",
    "\n",
    "data.Pstatus = data.Pstatus.apply(lambda x: freq_pstatus if pd.isnull(x) else x)"
   ]
  },
  {
   "cell_type": "code",
   "execution_count": null,
   "metadata": {},
   "outputs": [],
   "source": [
    "# Medu"
   ]
  },
  {
   "cell_type": "code",
   "execution_count": 93,
   "metadata": {},
   "outputs": [
    {
     "data": {
      "text/html": [
       "<div>\n",
       "<style scoped>\n",
       "    .dataframe tbody tr th:only-of-type {\n",
       "        vertical-align: middle;\n",
       "    }\n",
       "\n",
       "    .dataframe tbody tr th {\n",
       "        vertical-align: top;\n",
       "    }\n",
       "\n",
       "    .dataframe thead th {\n",
       "        text-align: right;\n",
       "    }\n",
       "</style>\n",
       "<table border=\"1\" class=\"dataframe\">\n",
       "  <thead>\n",
       "    <tr style=\"text-align: right;\">\n",
       "      <th></th>\n",
       "      <th>Medu</th>\n",
       "    </tr>\n",
       "  </thead>\n",
       "  <tbody>\n",
       "    <tr>\n",
       "      <td>4.0</td>\n",
       "      <td>131</td>\n",
       "    </tr>\n",
       "    <tr>\n",
       "      <td>2.0</td>\n",
       "      <td>102</td>\n",
       "    </tr>\n",
       "    <tr>\n",
       "      <td>3.0</td>\n",
       "      <td>97</td>\n",
       "    </tr>\n",
       "    <tr>\n",
       "      <td>1.0</td>\n",
       "      <td>59</td>\n",
       "    </tr>\n",
       "    <tr>\n",
       "      <td>0.0</td>\n",
       "      <td>3</td>\n",
       "    </tr>\n",
       "  </tbody>\n",
       "</table>\n",
       "</div>"
      ],
      "text/plain": [
       "     Medu\n",
       "4.0   131\n",
       "2.0   102\n",
       "3.0    97\n",
       "1.0    59\n",
       "0.0     3"
      ]
     },
     "metadata": {},
     "output_type": "display_data"
    },
    {
     "name": "stdout",
     "output_type": "stream",
     "text": [
      "<class 'pandas.core.frame.DataFrame'>\n",
      "RangeIndex: 395 entries, 0 to 394\n",
      "Data columns (total 1 columns):\n",
      "Medu    392 non-null float64\n",
      "dtypes: float64(1)\n",
      "memory usage: 3.2 KB\n"
     ]
    }
   ],
   "source": [
    "display(pd.DataFrame(data.Medu.value_counts()))\n",
    "data.loc[:,['Medu']].info()"
   ]
  },
  {
   "cell_type": "code",
   "execution_count": 61,
   "metadata": {},
   "outputs": [
    {
     "name": "stdout",
     "output_type": "stream",
     "text": [
      "Количество уникальных значений: 5\n",
      "Количество пропусков: 3\n"
     ]
    }
   ],
   "source": [
    "print('Количество уникальных значений:', data.Medu.nunique())\n",
    "print('Количество пропусков:', data.Medu.isnull().sum())"
   ]
  },
  {
   "cell_type": "markdown",
   "metadata": {},
   "source": [
    "У матерей большинства учеников высшее образование. Есть единичные пропуски значений. Т.к. пропусков очень мало, заменим их самым часть встречающимся значением."
   ]
  },
  {
   "cell_type": "code",
   "execution_count": 94,
   "metadata": {},
   "outputs": [],
   "source": [
    "data.Medu = data.Medu.apply(lambda x: 4 if pd.isnull(x) else x)"
   ]
  },
  {
   "cell_type": "code",
   "execution_count": null,
   "metadata": {},
   "outputs": [],
   "source": [
    "# Fedu"
   ]
  },
  {
   "cell_type": "code",
   "execution_count": 97,
   "metadata": {},
   "outputs": [
    {
     "data": {
      "text/html": [
       "<div>\n",
       "<style scoped>\n",
       "    .dataframe tbody tr th:only-of-type {\n",
       "        vertical-align: middle;\n",
       "    }\n",
       "\n",
       "    .dataframe tbody tr th {\n",
       "        vertical-align: top;\n",
       "    }\n",
       "\n",
       "    .dataframe thead th {\n",
       "        text-align: right;\n",
       "    }\n",
       "</style>\n",
       "<table border=\"1\" class=\"dataframe\">\n",
       "  <thead>\n",
       "    <tr style=\"text-align: right;\">\n",
       "      <th></th>\n",
       "      <th>Fedu</th>\n",
       "    </tr>\n",
       "  </thead>\n",
       "  <tbody>\n",
       "    <tr>\n",
       "      <td>2.0</td>\n",
       "      <td>106</td>\n",
       "    </tr>\n",
       "    <tr>\n",
       "      <td>3.0</td>\n",
       "      <td>96</td>\n",
       "    </tr>\n",
       "    <tr>\n",
       "      <td>4.0</td>\n",
       "      <td>88</td>\n",
       "    </tr>\n",
       "    <tr>\n",
       "      <td>1.0</td>\n",
       "      <td>78</td>\n",
       "    </tr>\n",
       "    <tr>\n",
       "      <td>0.0</td>\n",
       "      <td>2</td>\n",
       "    </tr>\n",
       "    <tr>\n",
       "      <td>40.0</td>\n",
       "      <td>1</td>\n",
       "    </tr>\n",
       "  </tbody>\n",
       "</table>\n",
       "</div>"
      ],
      "text/plain": [
       "      Fedu\n",
       "2.0    106\n",
       "3.0     96\n",
       "4.0     88\n",
       "1.0     78\n",
       "0.0      2\n",
       "40.0     1"
      ]
     },
     "metadata": {},
     "output_type": "display_data"
    },
    {
     "name": "stdout",
     "output_type": "stream",
     "text": [
      "<class 'pandas.core.frame.DataFrame'>\n",
      "RangeIndex: 395 entries, 0 to 394\n",
      "Data columns (total 1 columns):\n",
      "Fedu    371 non-null float64\n",
      "dtypes: float64(1)\n",
      "memory usage: 3.2 KB\n"
     ]
    }
   ],
   "source": [
    "display(pd.DataFrame(data.Fedu.value_counts()))\n",
    "data.loc[:,['Fedu']].info()"
   ]
  },
  {
   "cell_type": "code",
   "execution_count": 98,
   "metadata": {},
   "outputs": [
    {
     "name": "stdout",
     "output_type": "stream",
     "text": [
      "Количество уникальных значений: 6\n",
      "Количество пропусков: 24\n"
     ]
    }
   ],
   "source": [
    "print('Количество уникальных значений:', data.Fedu.nunique())\n",
    "print('Количество пропусков:', data.Fedu.isnull().sum())"
   ]
  },
  {
   "cell_type": "markdown",
   "metadata": {},
   "source": [
    "Значение 40.0 - выброс, так как градация уровня образования идет от 0 до 4. Скорей всего это опечатка и действительное значение должно быть 4. Заменим его на 4."
   ]
  },
  {
   "cell_type": "code",
   "execution_count": 131,
   "metadata": {},
   "outputs": [],
   "source": [
    "data.Fedu = data.Fedu.apply(lambda x: 4.0 if x == 40.0 else x)"
   ]
  },
  {
   "cell_type": "markdown",
   "metadata": {},
   "source": [
    "У большинства отцов учеников уровень образования 5-9 классов. Есть некоторое количество пропусков. Заменим пропуски на самое часто встречающееся значение."
   ]
  },
  {
   "cell_type": "code",
   "execution_count": 100,
   "metadata": {},
   "outputs": [],
   "source": [
    "freq_fedu = data.Fedu.loc[data.Fedu.value_counts().max()]\n",
    "\n",
    "data.Fedu = data.Fedu.apply(lambda x: freq_fedu if pd.isnull(x) else x)"
   ]
  },
  {
   "cell_type": "code",
   "execution_count": null,
   "metadata": {},
   "outputs": [],
   "source": [
    "# Mjob"
   ]
  },
  {
   "cell_type": "code",
   "execution_count": 102,
   "metadata": {},
   "outputs": [
    {
     "data": {
      "text/html": [
       "<div>\n",
       "<style scoped>\n",
       "    .dataframe tbody tr th:only-of-type {\n",
       "        vertical-align: middle;\n",
       "    }\n",
       "\n",
       "    .dataframe tbody tr th {\n",
       "        vertical-align: top;\n",
       "    }\n",
       "\n",
       "    .dataframe thead th {\n",
       "        text-align: right;\n",
       "    }\n",
       "</style>\n",
       "<table border=\"1\" class=\"dataframe\">\n",
       "  <thead>\n",
       "    <tr style=\"text-align: right;\">\n",
       "      <th></th>\n",
       "      <th>Mjob</th>\n",
       "    </tr>\n",
       "  </thead>\n",
       "  <tbody>\n",
       "    <tr>\n",
       "      <td>other</td>\n",
       "      <td>133</td>\n",
       "    </tr>\n",
       "    <tr>\n",
       "      <td>services</td>\n",
       "      <td>98</td>\n",
       "    </tr>\n",
       "    <tr>\n",
       "      <td>at_home</td>\n",
       "      <td>58</td>\n",
       "    </tr>\n",
       "    <tr>\n",
       "      <td>teacher</td>\n",
       "      <td>55</td>\n",
       "    </tr>\n",
       "    <tr>\n",
       "      <td>health</td>\n",
       "      <td>32</td>\n",
       "    </tr>\n",
       "  </tbody>\n",
       "</table>\n",
       "</div>"
      ],
      "text/plain": [
       "          Mjob\n",
       "other      133\n",
       "services    98\n",
       "at_home     58\n",
       "teacher     55\n",
       "health      32"
      ]
     },
     "metadata": {},
     "output_type": "display_data"
    },
    {
     "name": "stdout",
     "output_type": "stream",
     "text": [
      "<class 'pandas.core.frame.DataFrame'>\n",
      "RangeIndex: 395 entries, 0 to 394\n",
      "Data columns (total 1 columns):\n",
      "Mjob    376 non-null object\n",
      "dtypes: object(1)\n",
      "memory usage: 3.2+ KB\n"
     ]
    }
   ],
   "source": [
    "display(pd.DataFrame(data.Mjob.value_counts()))\n",
    "data.loc[:,['Mjob']].info()"
   ]
  },
  {
   "cell_type": "code",
   "execution_count": 103,
   "metadata": {},
   "outputs": [
    {
     "name": "stdout",
     "output_type": "stream",
     "text": [
      "Количество уникальных значений: 5\n",
      "Количество пропусков: 19\n"
     ]
    }
   ],
   "source": [
    "print('Количество уникальных значений:', data.Mjob.nunique())\n",
    "print('Количество пропусков:', data.Mjob.isnull().sum())"
   ]
  },
  {
   "cell_type": "markdown",
   "metadata": {},
   "source": [
    "Работа матерей большинства учеников - other, на втором месте идет гос. служба. Есть некоторое количество пропусков. Заменим пропуски самым часто встречающимся значением."
   ]
  },
  {
   "cell_type": "code",
   "execution_count": 106,
   "metadata": {},
   "outputs": [],
   "source": [
    "data.Mjob = data.Mjob.apply(lambda x: 'other' if pd.isnull(x) else x)"
   ]
  },
  {
   "cell_type": "code",
   "execution_count": null,
   "metadata": {},
   "outputs": [],
   "source": [
    "# Fjob"
   ]
  },
  {
   "cell_type": "code",
   "execution_count": 109,
   "metadata": {},
   "outputs": [
    {
     "data": {
      "text/html": [
       "<div>\n",
       "<style scoped>\n",
       "    .dataframe tbody tr th:only-of-type {\n",
       "        vertical-align: middle;\n",
       "    }\n",
       "\n",
       "    .dataframe tbody tr th {\n",
       "        vertical-align: top;\n",
       "    }\n",
       "\n",
       "    .dataframe thead th {\n",
       "        text-align: right;\n",
       "    }\n",
       "</style>\n",
       "<table border=\"1\" class=\"dataframe\">\n",
       "  <thead>\n",
       "    <tr style=\"text-align: right;\">\n",
       "      <th></th>\n",
       "      <th>Fjob</th>\n",
       "    </tr>\n",
       "  </thead>\n",
       "  <tbody>\n",
       "    <tr>\n",
       "      <td>other</td>\n",
       "      <td>197</td>\n",
       "    </tr>\n",
       "    <tr>\n",
       "      <td>services</td>\n",
       "      <td>102</td>\n",
       "    </tr>\n",
       "    <tr>\n",
       "      <td>teacher</td>\n",
       "      <td>29</td>\n",
       "    </tr>\n",
       "    <tr>\n",
       "      <td>at_home</td>\n",
       "      <td>16</td>\n",
       "    </tr>\n",
       "    <tr>\n",
       "      <td>health</td>\n",
       "      <td>15</td>\n",
       "    </tr>\n",
       "  </tbody>\n",
       "</table>\n",
       "</div>"
      ],
      "text/plain": [
       "          Fjob\n",
       "other      197\n",
       "services   102\n",
       "teacher     29\n",
       "at_home     16\n",
       "health      15"
      ]
     },
     "metadata": {},
     "output_type": "display_data"
    },
    {
     "name": "stdout",
     "output_type": "stream",
     "text": [
      "<class 'pandas.core.frame.DataFrame'>\n",
      "RangeIndex: 395 entries, 0 to 394\n",
      "Data columns (total 1 columns):\n",
      "Fjob    359 non-null object\n",
      "dtypes: object(1)\n",
      "memory usage: 3.2+ KB\n"
     ]
    }
   ],
   "source": [
    "display(pd.DataFrame(data.Fjob.value_counts()))\n",
    "data.loc[:,['Fjob']].info()"
   ]
  },
  {
   "cell_type": "code",
   "execution_count": 110,
   "metadata": {},
   "outputs": [
    {
     "name": "stdout",
     "output_type": "stream",
     "text": [
      "Количество уникальных значений: 5\n",
      "Количество пропусков: 36\n"
     ]
    }
   ],
   "source": [
    "print('Количество уникальных значений:', data.Fjob.nunique())\n",
    "print('Количество пропусков:', data.Fjob.isnull().sum())"
   ]
  },
  {
   "cell_type": "markdown",
   "metadata": {},
   "source": [
    "Работа отцов большинства учеников - other, на втором месте идет гос. служба. Есть некоторое количество пропусков. Заменим пропуски самым часто встречающимся значением."
   ]
  },
  {
   "cell_type": "code",
   "execution_count": 112,
   "metadata": {},
   "outputs": [],
   "source": [
    "freq_fjob = data.Fjob.loc[data.Fjob.value_counts().max()]\n",
    "\n",
    "data.Fjob = data.Fjob.apply(lambda x: freq_fjob if pd.isnull(x) else x)"
   ]
  },
  {
   "cell_type": "code",
   "execution_count": null,
   "metadata": {},
   "outputs": [],
   "source": [
    "# reason"
   ]
  },
  {
   "cell_type": "code",
   "execution_count": 114,
   "metadata": {},
   "outputs": [
    {
     "data": {
      "text/html": [
       "<div>\n",
       "<style scoped>\n",
       "    .dataframe tbody tr th:only-of-type {\n",
       "        vertical-align: middle;\n",
       "    }\n",
       "\n",
       "    .dataframe tbody tr th {\n",
       "        vertical-align: top;\n",
       "    }\n",
       "\n",
       "    .dataframe thead th {\n",
       "        text-align: right;\n",
       "    }\n",
       "</style>\n",
       "<table border=\"1\" class=\"dataframe\">\n",
       "  <thead>\n",
       "    <tr style=\"text-align: right;\">\n",
       "      <th></th>\n",
       "      <th>reason</th>\n",
       "    </tr>\n",
       "  </thead>\n",
       "  <tbody>\n",
       "    <tr>\n",
       "      <td>course</td>\n",
       "      <td>137</td>\n",
       "    </tr>\n",
       "    <tr>\n",
       "      <td>home</td>\n",
       "      <td>104</td>\n",
       "    </tr>\n",
       "    <tr>\n",
       "      <td>reputation</td>\n",
       "      <td>103</td>\n",
       "    </tr>\n",
       "    <tr>\n",
       "      <td>other</td>\n",
       "      <td>34</td>\n",
       "    </tr>\n",
       "  </tbody>\n",
       "</table>\n",
       "</div>"
      ],
      "text/plain": [
       "            reason\n",
       "course         137\n",
       "home           104\n",
       "reputation     103\n",
       "other           34"
      ]
     },
     "metadata": {},
     "output_type": "display_data"
    },
    {
     "name": "stdout",
     "output_type": "stream",
     "text": [
      "<class 'pandas.core.frame.DataFrame'>\n",
      "RangeIndex: 395 entries, 0 to 394\n",
      "Data columns (total 1 columns):\n",
      "reason    378 non-null object\n",
      "dtypes: object(1)\n",
      "memory usage: 3.2+ KB\n"
     ]
    }
   ],
   "source": [
    "display(pd.DataFrame(data.reason.value_counts()))\n",
    "data.loc[:,['reason']].info()"
   ]
  },
  {
   "cell_type": "code",
   "execution_count": 115,
   "metadata": {},
   "outputs": [
    {
     "name": "stdout",
     "output_type": "stream",
     "text": [
      "Количество уникальных значений: 4\n",
      "Количество пропусков: 17\n"
     ]
    }
   ],
   "source": [
    "print('Количество уникальных значений:', data.reason.nunique())\n",
    "print('Количество пропусков:', data.reason.isnull().sum())"
   ]
  },
  {
   "cell_type": "markdown",
   "metadata": {},
   "source": [
    "Для большинства учеников причиной выбора школы стала образовательная программа. Есть некоторое количество пропусков. Заменим пропуски самым часто встречающимся значением."
   ]
  },
  {
   "cell_type": "code",
   "execution_count": 117,
   "metadata": {},
   "outputs": [],
   "source": [
    "data.reason = data.reason.apply(lambda x: 'course' if pd.isnull(x) else x)"
   ]
  },
  {
   "cell_type": "code",
   "execution_count": null,
   "metadata": {},
   "outputs": [],
   "source": [
    "# guardian"
   ]
  },
  {
   "cell_type": "code",
   "execution_count": 119,
   "metadata": {},
   "outputs": [
    {
     "data": {
      "text/html": [
       "<div>\n",
       "<style scoped>\n",
       "    .dataframe tbody tr th:only-of-type {\n",
       "        vertical-align: middle;\n",
       "    }\n",
       "\n",
       "    .dataframe tbody tr th {\n",
       "        vertical-align: top;\n",
       "    }\n",
       "\n",
       "    .dataframe thead th {\n",
       "        text-align: right;\n",
       "    }\n",
       "</style>\n",
       "<table border=\"1\" class=\"dataframe\">\n",
       "  <thead>\n",
       "    <tr style=\"text-align: right;\">\n",
       "      <th></th>\n",
       "      <th>guardian</th>\n",
       "    </tr>\n",
       "  </thead>\n",
       "  <tbody>\n",
       "    <tr>\n",
       "      <td>mother</td>\n",
       "      <td>250</td>\n",
       "    </tr>\n",
       "    <tr>\n",
       "      <td>father</td>\n",
       "      <td>86</td>\n",
       "    </tr>\n",
       "    <tr>\n",
       "      <td>other</td>\n",
       "      <td>28</td>\n",
       "    </tr>\n",
       "  </tbody>\n",
       "</table>\n",
       "</div>"
      ],
      "text/plain": [
       "        guardian\n",
       "mother       250\n",
       "father        86\n",
       "other         28"
      ]
     },
     "metadata": {},
     "output_type": "display_data"
    },
    {
     "name": "stdout",
     "output_type": "stream",
     "text": [
      "<class 'pandas.core.frame.DataFrame'>\n",
      "RangeIndex: 395 entries, 0 to 394\n",
      "Data columns (total 1 columns):\n",
      "guardian    364 non-null object\n",
      "dtypes: object(1)\n",
      "memory usage: 3.2+ KB\n"
     ]
    }
   ],
   "source": [
    "display(pd.DataFrame(data.guardian.value_counts()))\n",
    "data.loc[:,['guardian']].info()"
   ]
  },
  {
   "cell_type": "code",
   "execution_count": 121,
   "metadata": {},
   "outputs": [
    {
     "name": "stdout",
     "output_type": "stream",
     "text": [
      "Количество уникальных значений: 3\n",
      "Количество пропусков: 31\n"
     ]
    }
   ],
   "source": [
    "print('Количество уникальных значений:', data.guardian.nunique())\n",
    "print('Количество пропусков:', data.guardian.isnull().sum())"
   ]
  },
  {
   "cell_type": "markdown",
   "metadata": {},
   "source": [
    "Для большинства учеников опекуном является мама. Есть некоторое количество пропусков. Заменим пропуски самым часто встречающимся значением."
   ]
  },
  {
   "cell_type": "code",
   "execution_count": 123,
   "metadata": {},
   "outputs": [],
   "source": [
    "freq_guardian = data.guardian.loc[data.guardian.value_counts().max()]\n",
    "\n",
    "data.guardian = data.guardian.apply(lambda x: freq_guardian if pd.isnull(x) else x)"
   ]
  },
  {
   "cell_type": "code",
   "execution_count": null,
   "metadata": {},
   "outputs": [],
   "source": [
    "# traveltime"
   ]
  },
  {
   "cell_type": "code",
   "execution_count": 125,
   "metadata": {},
   "outputs": [
    {
     "data": {
      "text/html": [
       "<div>\n",
       "<style scoped>\n",
       "    .dataframe tbody tr th:only-of-type {\n",
       "        vertical-align: middle;\n",
       "    }\n",
       "\n",
       "    .dataframe tbody tr th {\n",
       "        vertical-align: top;\n",
       "    }\n",
       "\n",
       "    .dataframe thead th {\n",
       "        text-align: right;\n",
       "    }\n",
       "</style>\n",
       "<table border=\"1\" class=\"dataframe\">\n",
       "  <thead>\n",
       "    <tr style=\"text-align: right;\">\n",
       "      <th></th>\n",
       "      <th>traveltime</th>\n",
       "    </tr>\n",
       "  </thead>\n",
       "  <tbody>\n",
       "    <tr>\n",
       "      <td>1.0</td>\n",
       "      <td>242</td>\n",
       "    </tr>\n",
       "    <tr>\n",
       "      <td>2.0</td>\n",
       "      <td>96</td>\n",
       "    </tr>\n",
       "    <tr>\n",
       "      <td>3.0</td>\n",
       "      <td>22</td>\n",
       "    </tr>\n",
       "    <tr>\n",
       "      <td>4.0</td>\n",
       "      <td>7</td>\n",
       "    </tr>\n",
       "  </tbody>\n",
       "</table>\n",
       "</div>"
      ],
      "text/plain": [
       "     traveltime\n",
       "1.0         242\n",
       "2.0          96\n",
       "3.0          22\n",
       "4.0           7"
      ]
     },
     "metadata": {},
     "output_type": "display_data"
    },
    {
     "name": "stdout",
     "output_type": "stream",
     "text": [
      "<class 'pandas.core.frame.DataFrame'>\n",
      "RangeIndex: 395 entries, 0 to 394\n",
      "Data columns (total 1 columns):\n",
      "traveltime    367 non-null float64\n",
      "dtypes: float64(1)\n",
      "memory usage: 3.2 KB\n"
     ]
    }
   ],
   "source": [
    "display(pd.DataFrame(data.traveltime.value_counts()))\n",
    "data.loc[:,['traveltime']].info()"
   ]
  },
  {
   "cell_type": "code",
   "execution_count": 126,
   "metadata": {},
   "outputs": [
    {
     "name": "stdout",
     "output_type": "stream",
     "text": [
      "Количество уникальных значений: 4\n",
      "Количество пропусков: 28\n"
     ]
    }
   ],
   "source": [
    "print('Количество уникальных значений:', data.traveltime.nunique())\n",
    "print('Количество пропусков:', data.traveltime.isnull().sum())"
   ]
  },
  {
   "cell_type": "markdown",
   "metadata": {},
   "source": [
    "Для большинства учеников дорога до школы занимает не больше 15 минут. Есть некоторое количество пропусков."
   ]
  },
  {
   "cell_type": "code",
   "execution_count": 128,
   "metadata": {},
   "outputs": [],
   "source": [
    "freq_traveltime = data.traveltime.loc[data.traveltime.value_counts().max()]\n",
    "\n",
    "data.traveltime = data.traveltime.apply(lambda x: freq_traveltime if pd.isnull(x) else x)"
   ]
  },
  {
   "cell_type": "code",
   "execution_count": null,
   "metadata": {},
   "outputs": [],
   "source": [
    "# studytime"
   ]
  },
  {
   "cell_type": "code",
   "execution_count": 131,
   "metadata": {},
   "outputs": [
    {
     "data": {
      "text/html": [
       "<div>\n",
       "<style scoped>\n",
       "    .dataframe tbody tr th:only-of-type {\n",
       "        vertical-align: middle;\n",
       "    }\n",
       "\n",
       "    .dataframe tbody tr th {\n",
       "        vertical-align: top;\n",
       "    }\n",
       "\n",
       "    .dataframe thead th {\n",
       "        text-align: right;\n",
       "    }\n",
       "</style>\n",
       "<table border=\"1\" class=\"dataframe\">\n",
       "  <thead>\n",
       "    <tr style=\"text-align: right;\">\n",
       "      <th></th>\n",
       "      <th>studytime</th>\n",
       "    </tr>\n",
       "  </thead>\n",
       "  <tbody>\n",
       "    <tr>\n",
       "      <td>2.0</td>\n",
       "      <td>194</td>\n",
       "    </tr>\n",
       "    <tr>\n",
       "      <td>1.0</td>\n",
       "      <td>103</td>\n",
       "    </tr>\n",
       "    <tr>\n",
       "      <td>3.0</td>\n",
       "      <td>64</td>\n",
       "    </tr>\n",
       "    <tr>\n",
       "      <td>4.0</td>\n",
       "      <td>27</td>\n",
       "    </tr>\n",
       "  </tbody>\n",
       "</table>\n",
       "</div>"
      ],
      "text/plain": [
       "     studytime\n",
       "2.0        194\n",
       "1.0        103\n",
       "3.0         64\n",
       "4.0         27"
      ]
     },
     "metadata": {},
     "output_type": "display_data"
    },
    {
     "name": "stdout",
     "output_type": "stream",
     "text": [
      "<class 'pandas.core.frame.DataFrame'>\n",
      "RangeIndex: 395 entries, 0 to 394\n",
      "Data columns (total 1 columns):\n",
      "studytime    388 non-null float64\n",
      "dtypes: float64(1)\n",
      "memory usage: 3.2 KB\n"
     ]
    }
   ],
   "source": [
    "display(pd.DataFrame(data.studytime.value_counts()))\n",
    "data.loc[:,['studytime']].info()"
   ]
  },
  {
   "cell_type": "code",
   "execution_count": 132,
   "metadata": {},
   "outputs": [
    {
     "name": "stdout",
     "output_type": "stream",
     "text": [
      "Количество уникальных значений: 4\n",
      "Количество пропусков: 7\n"
     ]
    }
   ],
   "source": [
    "print('Количество уникальных значений:', data.studytime.nunique())\n",
    "print('Количество пропусков:', data.studytime.isnull().sum())"
   ]
  },
  {
   "cell_type": "markdown",
   "metadata": {},
   "source": [
    "Большинство учеников выделяют на учебу вне школы от 2 до 5 часов в неделю. Есть единичные пропуски в данных. Заполним проруски самым часто встречающимся значением."
   ]
  },
  {
   "cell_type": "code",
   "execution_count": 134,
   "metadata": {},
   "outputs": [],
   "source": [
    "data.studytime = data.studytime.apply(lambda x: 2 if pd.isnull(x) else x)"
   ]
  },
  {
   "cell_type": "code",
   "execution_count": null,
   "metadata": {},
   "outputs": [],
   "source": [
    "# failures"
   ]
  },
  {
   "cell_type": "code",
   "execution_count": 136,
   "metadata": {},
   "outputs": [
    {
     "data": {
      "text/html": [
       "<div>\n",
       "<style scoped>\n",
       "    .dataframe tbody tr th:only-of-type {\n",
       "        vertical-align: middle;\n",
       "    }\n",
       "\n",
       "    .dataframe tbody tr th {\n",
       "        vertical-align: top;\n",
       "    }\n",
       "\n",
       "    .dataframe thead th {\n",
       "        text-align: right;\n",
       "    }\n",
       "</style>\n",
       "<table border=\"1\" class=\"dataframe\">\n",
       "  <thead>\n",
       "    <tr style=\"text-align: right;\">\n",
       "      <th></th>\n",
       "      <th>failures</th>\n",
       "    </tr>\n",
       "  </thead>\n",
       "  <tbody>\n",
       "    <tr>\n",
       "      <td>0.0</td>\n",
       "      <td>293</td>\n",
       "    </tr>\n",
       "    <tr>\n",
       "      <td>1.0</td>\n",
       "      <td>49</td>\n",
       "    </tr>\n",
       "    <tr>\n",
       "      <td>2.0</td>\n",
       "      <td>16</td>\n",
       "    </tr>\n",
       "    <tr>\n",
       "      <td>3.0</td>\n",
       "      <td>15</td>\n",
       "    </tr>\n",
       "  </tbody>\n",
       "</table>\n",
       "</div>"
      ],
      "text/plain": [
       "     failures\n",
       "0.0       293\n",
       "1.0        49\n",
       "2.0        16\n",
       "3.0        15"
      ]
     },
     "metadata": {},
     "output_type": "display_data"
    },
    {
     "name": "stdout",
     "output_type": "stream",
     "text": [
      "<class 'pandas.core.frame.DataFrame'>\n",
      "RangeIndex: 395 entries, 0 to 394\n",
      "Data columns (total 1 columns):\n",
      "failures    373 non-null float64\n",
      "dtypes: float64(1)\n",
      "memory usage: 3.2 KB\n"
     ]
    }
   ],
   "source": [
    "display(pd.DataFrame(data.failures.value_counts()))\n",
    "data.loc[:,['failures']].info()"
   ]
  },
  {
   "cell_type": "code",
   "execution_count": 137,
   "metadata": {},
   "outputs": [
    {
     "name": "stdout",
     "output_type": "stream",
     "text": [
      "Количество уникальных значений: 4\n",
      "Количество пропусков: 22\n"
     ]
    }
   ],
   "source": [
    "print('Количество уникальных значений:', data.failures.nunique())\n",
    "print('Количество пропусков:', data.failures.isnull().sum())"
   ]
  },
  {
   "cell_type": "markdown",
   "metadata": {},
   "source": [
    "Большинство учеников не имеют внеучебные неудачи. Также есть некоторое количество пропусков. Заполним пропуски самым часто встречающимся значением."
   ]
  },
  {
   "cell_type": "code",
   "execution_count": 138,
   "metadata": {},
   "outputs": [],
   "source": [
    "data.failures = data.failures.apply(lambda x: 0 if pd.isnull(x) else x)"
   ]
  },
  {
   "cell_type": "code",
   "execution_count": null,
   "metadata": {},
   "outputs": [],
   "source": [
    "# schoolsup"
   ]
  },
  {
   "cell_type": "code",
   "execution_count": 140,
   "metadata": {},
   "outputs": [
    {
     "data": {
      "text/html": [
       "<div>\n",
       "<style scoped>\n",
       "    .dataframe tbody tr th:only-of-type {\n",
       "        vertical-align: middle;\n",
       "    }\n",
       "\n",
       "    .dataframe tbody tr th {\n",
       "        vertical-align: top;\n",
       "    }\n",
       "\n",
       "    .dataframe thead th {\n",
       "        text-align: right;\n",
       "    }\n",
       "</style>\n",
       "<table border=\"1\" class=\"dataframe\">\n",
       "  <thead>\n",
       "    <tr style=\"text-align: right;\">\n",
       "      <th></th>\n",
       "      <th>schoolsup</th>\n",
       "    </tr>\n",
       "  </thead>\n",
       "  <tbody>\n",
       "    <tr>\n",
       "      <td>0.0</td>\n",
       "      <td>335</td>\n",
       "    </tr>\n",
       "    <tr>\n",
       "      <td>1.0</td>\n",
       "      <td>51</td>\n",
       "    </tr>\n",
       "  </tbody>\n",
       "</table>\n",
       "</div>"
      ],
      "text/plain": [
       "     schoolsup\n",
       "0.0        335\n",
       "1.0         51"
      ]
     },
     "metadata": {},
     "output_type": "display_data"
    },
    {
     "name": "stdout",
     "output_type": "stream",
     "text": [
      "<class 'pandas.core.frame.DataFrame'>\n",
      "RangeIndex: 395 entries, 0 to 394\n",
      "Data columns (total 1 columns):\n",
      "schoolsup    386 non-null float64\n",
      "dtypes: float64(1)\n",
      "memory usage: 3.2 KB\n"
     ]
    }
   ],
   "source": [
    "display(pd.DataFrame(data.schoolsup.value_counts()))\n",
    "data.loc[:,['schoolsup']].info()"
   ]
  },
  {
   "cell_type": "code",
   "execution_count": 141,
   "metadata": {},
   "outputs": [
    {
     "name": "stdout",
     "output_type": "stream",
     "text": [
      "Количество уникальных значений: 2\n",
      "Количество пропусков: 9\n"
     ]
    }
   ],
   "source": [
    "print('Количество уникальных значений:', data.schoolsup.nunique())\n",
    "print('Количество пропусков:', data.schoolsup.isnull().sum())"
   ]
  },
  {
   "cell_type": "markdown",
   "metadata": {},
   "source": [
    "Подавляющее число учеников не имеет дополнительной образовательной поддержки. Есть некоторое количество пропусков. Заполним их самым часто встречающимся значением."
   ]
  },
  {
   "cell_type": "code",
   "execution_count": 142,
   "metadata": {},
   "outputs": [],
   "source": [
    "data.schoolsup = data.schoolsup.apply(lambda x: 0 if pd.isnull(x) else x)"
   ]
  },
  {
   "cell_type": "code",
   "execution_count": null,
   "metadata": {},
   "outputs": [],
   "source": [
    "# famsup"
   ]
  },
  {
   "cell_type": "code",
   "execution_count": 143,
   "metadata": {},
   "outputs": [
    {
     "data": {
      "text/html": [
       "<div>\n",
       "<style scoped>\n",
       "    .dataframe tbody tr th:only-of-type {\n",
       "        vertical-align: middle;\n",
       "    }\n",
       "\n",
       "    .dataframe tbody tr th {\n",
       "        vertical-align: top;\n",
       "    }\n",
       "\n",
       "    .dataframe thead th {\n",
       "        text-align: right;\n",
       "    }\n",
       "</style>\n",
       "<table border=\"1\" class=\"dataframe\">\n",
       "  <thead>\n",
       "    <tr style=\"text-align: right;\">\n",
       "      <th></th>\n",
       "      <th>famsup</th>\n",
       "    </tr>\n",
       "  </thead>\n",
       "  <tbody>\n",
       "    <tr>\n",
       "      <td>1.0</td>\n",
       "      <td>219</td>\n",
       "    </tr>\n",
       "    <tr>\n",
       "      <td>0.0</td>\n",
       "      <td>137</td>\n",
       "    </tr>\n",
       "  </tbody>\n",
       "</table>\n",
       "</div>"
      ],
      "text/plain": [
       "     famsup\n",
       "1.0     219\n",
       "0.0     137"
      ]
     },
     "metadata": {},
     "output_type": "display_data"
    },
    {
     "name": "stdout",
     "output_type": "stream",
     "text": [
      "<class 'pandas.core.frame.DataFrame'>\n",
      "RangeIndex: 395 entries, 0 to 394\n",
      "Data columns (total 1 columns):\n",
      "famsup    356 non-null float64\n",
      "dtypes: float64(1)\n",
      "memory usage: 3.2 KB\n"
     ]
    }
   ],
   "source": [
    "display(pd.DataFrame(data.famsup.value_counts()))\n",
    "data.loc[:,['famsup']].info()"
   ]
  },
  {
   "cell_type": "code",
   "execution_count": 144,
   "metadata": {},
   "outputs": [
    {
     "name": "stdout",
     "output_type": "stream",
     "text": [
      "Количество уникальных значений: 2\n",
      "Количество пропусков: 39\n"
     ]
    }
   ],
   "source": [
    "print('Количество уникальных значений:', data.famsup.nunique())\n",
    "print('Количество пропусков:', data.famsup.isnull().sum())"
   ]
  },
  {
   "cell_type": "markdown",
   "metadata": {},
   "source": [
    "У большинства учеников есть образовательная поддержка со стороны семьи, но также количество учеников, кто не получает образовательную поддержку со стороны семьи, тоже большое. Есть некоторое количество пропусков, заполним их самым часто встречающимся значением."
   ]
  },
  {
   "cell_type": "code",
   "execution_count": 146,
   "metadata": {},
   "outputs": [],
   "source": [
    "freq_famsup = data.famsup.loc[data.famsup.value_counts().max()]\n",
    "\n",
    "data.famsup = data.famsup.apply(lambda x: freq_famsup if pd.isnull(x) else x)"
   ]
  },
  {
   "cell_type": "code",
   "execution_count": null,
   "metadata": {},
   "outputs": [],
   "source": [
    "# paid"
   ]
  },
  {
   "cell_type": "code",
   "execution_count": 148,
   "metadata": {},
   "outputs": [
    {
     "data": {
      "text/html": [
       "<div>\n",
       "<style scoped>\n",
       "    .dataframe tbody tr th:only-of-type {\n",
       "        vertical-align: middle;\n",
       "    }\n",
       "\n",
       "    .dataframe tbody tr th {\n",
       "        vertical-align: top;\n",
       "    }\n",
       "\n",
       "    .dataframe thead th {\n",
       "        text-align: right;\n",
       "    }\n",
       "</style>\n",
       "<table border=\"1\" class=\"dataframe\">\n",
       "  <thead>\n",
       "    <tr style=\"text-align: right;\">\n",
       "      <th></th>\n",
       "      <th>paid</th>\n",
       "    </tr>\n",
       "  </thead>\n",
       "  <tbody>\n",
       "    <tr>\n",
       "      <td>0.0</td>\n",
       "      <td>200</td>\n",
       "    </tr>\n",
       "    <tr>\n",
       "      <td>1.0</td>\n",
       "      <td>155</td>\n",
       "    </tr>\n",
       "  </tbody>\n",
       "</table>\n",
       "</div>"
      ],
      "text/plain": [
       "     paid\n",
       "0.0   200\n",
       "1.0   155"
      ]
     },
     "metadata": {},
     "output_type": "display_data"
    },
    {
     "name": "stdout",
     "output_type": "stream",
     "text": [
      "<class 'pandas.core.frame.DataFrame'>\n",
      "RangeIndex: 395 entries, 0 to 394\n",
      "Data columns (total 1 columns):\n",
      "paid    355 non-null float64\n",
      "dtypes: float64(1)\n",
      "memory usage: 3.2 KB\n"
     ]
    }
   ],
   "source": [
    "display(pd.DataFrame(data.paid.value_counts()))\n",
    "data.loc[:,['paid']].info()"
   ]
  },
  {
   "cell_type": "code",
   "execution_count": 149,
   "metadata": {},
   "outputs": [
    {
     "name": "stdout",
     "output_type": "stream",
     "text": [
      "Количество уникальных значений: 2\n",
      "Количество пропусков: 40\n"
     ]
    }
   ],
   "source": [
    "print('Количество уникальных значений:', data.paid.nunique())\n",
    "print('Количество пропусков:', data.paid.isnull().sum())"
   ]
  },
  {
   "cell_type": "markdown",
   "metadata": {},
   "source": [
    "Большинство учеников не посещает дополнительные платные занятия по математике - 200 человек, но тех, кто посещает, большое количество - 155. Заполним пропуски самым часто встречающимся значением."
   ]
  },
  {
   "cell_type": "code",
   "execution_count": 151,
   "metadata": {},
   "outputs": [],
   "source": [
    "data.paid = data.paid.apply(lambda x: 0 if pd.isnull(x) else x)"
   ]
  },
  {
   "cell_type": "code",
   "execution_count": null,
   "metadata": {},
   "outputs": [],
   "source": [
    "# activities"
   ]
  },
  {
   "cell_type": "code",
   "execution_count": 153,
   "metadata": {},
   "outputs": [
    {
     "data": {
      "text/html": [
       "<div>\n",
       "<style scoped>\n",
       "    .dataframe tbody tr th:only-of-type {\n",
       "        vertical-align: middle;\n",
       "    }\n",
       "\n",
       "    .dataframe tbody tr th {\n",
       "        vertical-align: top;\n",
       "    }\n",
       "\n",
       "    .dataframe thead th {\n",
       "        text-align: right;\n",
       "    }\n",
       "</style>\n",
       "<table border=\"1\" class=\"dataframe\">\n",
       "  <thead>\n",
       "    <tr style=\"text-align: right;\">\n",
       "      <th></th>\n",
       "      <th>activities</th>\n",
       "    </tr>\n",
       "  </thead>\n",
       "  <tbody>\n",
       "    <tr>\n",
       "      <td>1.0</td>\n",
       "      <td>195</td>\n",
       "    </tr>\n",
       "    <tr>\n",
       "      <td>0.0</td>\n",
       "      <td>186</td>\n",
       "    </tr>\n",
       "  </tbody>\n",
       "</table>\n",
       "</div>"
      ],
      "text/plain": [
       "     activities\n",
       "1.0         195\n",
       "0.0         186"
      ]
     },
     "metadata": {},
     "output_type": "display_data"
    },
    {
     "name": "stdout",
     "output_type": "stream",
     "text": [
      "<class 'pandas.core.frame.DataFrame'>\n",
      "RangeIndex: 395 entries, 0 to 394\n",
      "Data columns (total 1 columns):\n",
      "activities    381 non-null float64\n",
      "dtypes: float64(1)\n",
      "memory usage: 3.2 KB\n"
     ]
    }
   ],
   "source": [
    "display(pd.DataFrame(data.activities.value_counts()))\n",
    "data.loc[:,['activities']].info()"
   ]
  },
  {
   "cell_type": "code",
   "execution_count": 154,
   "metadata": {},
   "outputs": [
    {
     "name": "stdout",
     "output_type": "stream",
     "text": [
      "Количество уникальных значений: 2\n",
      "Количество пропусков: 14\n"
     ]
    }
   ],
   "source": [
    "print('Количество уникальных значений:', data.activities.nunique())\n",
    "print('Количество пропусков:', data.activities.isnull().sum())"
   ]
  },
  {
   "cell_type": "markdown",
   "metadata": {},
   "source": [
    "Количество учеников, посещающих и не посещающих дополнительные внеучебные активности, примерно одинаковое количество, но тех, кто посещает, немного больше. Есть некоторое количество пропусков. Заполним пропуски наиболее часто встречающимся значением."
   ]
  },
  {
   "cell_type": "code",
   "execution_count": 156,
   "metadata": {},
   "outputs": [],
   "source": [
    "freq_activities = data.activities.loc[data.activities.value_counts().max()]\n",
    "\n",
    "data.activities = data.activities.apply(lambda x: freq_activities if pd.isnull(x) else x)"
   ]
  },
  {
   "cell_type": "code",
   "execution_count": null,
   "metadata": {},
   "outputs": [],
   "source": [
    "# nursery"
   ]
  },
  {
   "cell_type": "code",
   "execution_count": 158,
   "metadata": {},
   "outputs": [
    {
     "data": {
      "text/html": [
       "<div>\n",
       "<style scoped>\n",
       "    .dataframe tbody tr th:only-of-type {\n",
       "        vertical-align: middle;\n",
       "    }\n",
       "\n",
       "    .dataframe tbody tr th {\n",
       "        vertical-align: top;\n",
       "    }\n",
       "\n",
       "    .dataframe thead th {\n",
       "        text-align: right;\n",
       "    }\n",
       "</style>\n",
       "<table border=\"1\" class=\"dataframe\">\n",
       "  <thead>\n",
       "    <tr style=\"text-align: right;\">\n",
       "      <th></th>\n",
       "      <th>nursery</th>\n",
       "    </tr>\n",
       "  </thead>\n",
       "  <tbody>\n",
       "    <tr>\n",
       "      <td>1.0</td>\n",
       "      <td>300</td>\n",
       "    </tr>\n",
       "    <tr>\n",
       "      <td>0.0</td>\n",
       "      <td>79</td>\n",
       "    </tr>\n",
       "  </tbody>\n",
       "</table>\n",
       "</div>"
      ],
      "text/plain": [
       "     nursery\n",
       "1.0      300\n",
       "0.0       79"
      ]
     },
     "metadata": {},
     "output_type": "display_data"
    },
    {
     "name": "stdout",
     "output_type": "stream",
     "text": [
      "<class 'pandas.core.frame.DataFrame'>\n",
      "RangeIndex: 395 entries, 0 to 394\n",
      "Data columns (total 1 columns):\n",
      "nursery    379 non-null float64\n",
      "dtypes: float64(1)\n",
      "memory usage: 3.2 KB\n"
     ]
    }
   ],
   "source": [
    "display(pd.DataFrame(data.nursery.value_counts()))\n",
    "data.loc[:,['nursery']].info()"
   ]
  },
  {
   "cell_type": "code",
   "execution_count": 159,
   "metadata": {},
   "outputs": [
    {
     "name": "stdout",
     "output_type": "stream",
     "text": [
      "Количество уникальных значений: 2\n",
      "Количество пропусков: 16\n"
     ]
    }
   ],
   "source": [
    "print('Количество уникальных значений:', data.nursery.nunique())\n",
    "print('Количество пропусков:', data.nursery.isnull().sum())"
   ]
  },
  {
   "cell_type": "markdown",
   "metadata": {},
   "source": [
    "Подавляющее число учеников посещало детский сад. Есть некоторое количество пропусков. Заполним их наиболее часто встречающимся значением."
   ]
  },
  {
   "cell_type": "code",
   "execution_count": 161,
   "metadata": {},
   "outputs": [],
   "source": [
    "data.nursery = data.nursery.apply(lambda x: 1 if pd.isnull(x) else x)"
   ]
  },
  {
   "cell_type": "code",
   "execution_count": null,
   "metadata": {},
   "outputs": [],
   "source": [
    "# studytime_granular"
   ]
  },
  {
   "cell_type": "code",
   "execution_count": 162,
   "metadata": {},
   "outputs": [
    {
     "data": {
      "text/html": [
       "<div>\n",
       "<style scoped>\n",
       "    .dataframe tbody tr th:only-of-type {\n",
       "        vertical-align: middle;\n",
       "    }\n",
       "\n",
       "    .dataframe tbody tr th {\n",
       "        vertical-align: top;\n",
       "    }\n",
       "\n",
       "    .dataframe thead th {\n",
       "        text-align: right;\n",
       "    }\n",
       "</style>\n",
       "<table border=\"1\" class=\"dataframe\">\n",
       "  <thead>\n",
       "    <tr style=\"text-align: right;\">\n",
       "      <th></th>\n",
       "      <th>studytime_granular</th>\n",
       "    </tr>\n",
       "  </thead>\n",
       "  <tbody>\n",
       "    <tr>\n",
       "      <td>-6.0</td>\n",
       "      <td>194</td>\n",
       "    </tr>\n",
       "    <tr>\n",
       "      <td>-3.0</td>\n",
       "      <td>103</td>\n",
       "    </tr>\n",
       "    <tr>\n",
       "      <td>-9.0</td>\n",
       "      <td>64</td>\n",
       "    </tr>\n",
       "    <tr>\n",
       "      <td>-12.0</td>\n",
       "      <td>27</td>\n",
       "    </tr>\n",
       "  </tbody>\n",
       "</table>\n",
       "</div>"
      ],
      "text/plain": [
       "       studytime_granular\n",
       "-6.0                  194\n",
       "-3.0                  103\n",
       "-9.0                   64\n",
       "-12.0                  27"
      ]
     },
     "metadata": {},
     "output_type": "display_data"
    },
    {
     "name": "stdout",
     "output_type": "stream",
     "text": [
      "<class 'pandas.core.frame.DataFrame'>\n",
      "RangeIndex: 395 entries, 0 to 394\n",
      "Data columns (total 1 columns):\n",
      "studytime_granular    388 non-null float64\n",
      "dtypes: float64(1)\n",
      "memory usage: 3.2 KB\n"
     ]
    }
   ],
   "source": [
    "display(pd.DataFrame(data.studytime_granular.value_counts()))\n",
    "data.loc[:,['studytime_granular']].info()"
   ]
  },
  {
   "cell_type": "code",
   "execution_count": 163,
   "metadata": {},
   "outputs": [
    {
     "name": "stdout",
     "output_type": "stream",
     "text": [
      "Количество уникальных значений: 4\n",
      "Количество пропусков: 7\n"
     ]
    }
   ],
   "source": [
    "print('Количество уникальных значений:', data.studytime_granular.nunique())\n",
    "print('Количество пропусков:', data.studytime_granular.isnull().sum())"
   ]
  },
  {
   "cell_type": "markdown",
   "metadata": {},
   "source": [
    "Неведомый признак, для большинства учеников характерно значение -6 (это должно быть количество часов, затрачиваемых на что-то, возможно, значение обратно пропорционально studytime). Есть небольшое количество пропусков, заполним их самыми частыми значениями."
   ]
  },
  {
   "cell_type": "code",
   "execution_count": 165,
   "metadata": {},
   "outputs": [],
   "source": [
    "data.studytime_granular = data.studytime_granular.apply(lambda x: -6 if pd.isnull(x) else x)"
   ]
  },
  {
   "cell_type": "code",
   "execution_count": null,
   "metadata": {},
   "outputs": [],
   "source": [
    "# higher"
   ]
  },
  {
   "cell_type": "code",
   "execution_count": 167,
   "metadata": {},
   "outputs": [
    {
     "data": {
      "text/html": [
       "<div>\n",
       "<style scoped>\n",
       "    .dataframe tbody tr th:only-of-type {\n",
       "        vertical-align: middle;\n",
       "    }\n",
       "\n",
       "    .dataframe tbody tr th {\n",
       "        vertical-align: top;\n",
       "    }\n",
       "\n",
       "    .dataframe thead th {\n",
       "        text-align: right;\n",
       "    }\n",
       "</style>\n",
       "<table border=\"1\" class=\"dataframe\">\n",
       "  <thead>\n",
       "    <tr style=\"text-align: right;\">\n",
       "      <th></th>\n",
       "      <th>higher</th>\n",
       "    </tr>\n",
       "  </thead>\n",
       "  <tbody>\n",
       "    <tr>\n",
       "      <td>1.0</td>\n",
       "      <td>356</td>\n",
       "    </tr>\n",
       "    <tr>\n",
       "      <td>0.0</td>\n",
       "      <td>19</td>\n",
       "    </tr>\n",
       "  </tbody>\n",
       "</table>\n",
       "</div>"
      ],
      "text/plain": [
       "     higher\n",
       "1.0     356\n",
       "0.0      19"
      ]
     },
     "metadata": {},
     "output_type": "display_data"
    },
    {
     "name": "stdout",
     "output_type": "stream",
     "text": [
      "<class 'pandas.core.frame.DataFrame'>\n",
      "RangeIndex: 395 entries, 0 to 394\n",
      "Data columns (total 1 columns):\n",
      "higher    375 non-null float64\n",
      "dtypes: float64(1)\n",
      "memory usage: 3.2 KB\n"
     ]
    }
   ],
   "source": [
    "display(pd.DataFrame(data.higher.value_counts()))\n",
    "data.loc[:,['higher']].info()"
   ]
  },
  {
   "cell_type": "code",
   "execution_count": 168,
   "metadata": {},
   "outputs": [
    {
     "name": "stdout",
     "output_type": "stream",
     "text": [
      "Количество уникальных значений: 2\n",
      "Количество пропусков: 20\n"
     ]
    }
   ],
   "source": [
    "print('Количество уникальных значений:', data.higher.nunique())\n",
    "print('Количество пропусков:', data.higher.isnull().sum())"
   ]
  },
  {
   "cell_type": "markdown",
   "metadata": {},
   "source": [
    "Подавляющее число учеников собираются получать высшее образование. Есть некоторое количество пропусков, заполним их самым частым значением."
   ]
  },
  {
   "cell_type": "code",
   "execution_count": 169,
   "metadata": {},
   "outputs": [],
   "source": [
    "data.higher = data.higher.apply(lambda x: 1 if pd.isnull(x) else x)"
   ]
  },
  {
   "cell_type": "code",
   "execution_count": null,
   "metadata": {},
   "outputs": [],
   "source": [
    "# internet"
   ]
  },
  {
   "cell_type": "code",
   "execution_count": 170,
   "metadata": {},
   "outputs": [
    {
     "data": {
      "text/html": [
       "<div>\n",
       "<style scoped>\n",
       "    .dataframe tbody tr th:only-of-type {\n",
       "        vertical-align: middle;\n",
       "    }\n",
       "\n",
       "    .dataframe tbody tr th {\n",
       "        vertical-align: top;\n",
       "    }\n",
       "\n",
       "    .dataframe thead th {\n",
       "        text-align: right;\n",
       "    }\n",
       "</style>\n",
       "<table border=\"1\" class=\"dataframe\">\n",
       "  <thead>\n",
       "    <tr style=\"text-align: right;\">\n",
       "      <th></th>\n",
       "      <th>internet</th>\n",
       "    </tr>\n",
       "  </thead>\n",
       "  <tbody>\n",
       "    <tr>\n",
       "      <td>1.0</td>\n",
       "      <td>305</td>\n",
       "    </tr>\n",
       "    <tr>\n",
       "      <td>0.0</td>\n",
       "      <td>56</td>\n",
       "    </tr>\n",
       "  </tbody>\n",
       "</table>\n",
       "</div>"
      ],
      "text/plain": [
       "     internet\n",
       "1.0       305\n",
       "0.0        56"
      ]
     },
     "metadata": {},
     "output_type": "display_data"
    },
    {
     "name": "stdout",
     "output_type": "stream",
     "text": [
      "<class 'pandas.core.frame.DataFrame'>\n",
      "RangeIndex: 395 entries, 0 to 394\n",
      "Data columns (total 1 columns):\n",
      "internet    361 non-null float64\n",
      "dtypes: float64(1)\n",
      "memory usage: 3.2 KB\n"
     ]
    }
   ],
   "source": [
    "display(pd.DataFrame(data.internet.value_counts()))\n",
    "data.loc[:,['internet']].info()"
   ]
  },
  {
   "cell_type": "code",
   "execution_count": 171,
   "metadata": {},
   "outputs": [
    {
     "name": "stdout",
     "output_type": "stream",
     "text": [
      "Количество уникальных значений: 2\n",
      "Количество пропусков: 34\n"
     ]
    }
   ],
   "source": [
    "print('Количество уникальных значений:', data.internet.nunique())\n",
    "print('Количество пропусков:', data.internet.isnull().sum())"
   ]
  },
  {
   "cell_type": "markdown",
   "metadata": {},
   "source": [
    "У подавляющего большинства учеников есть дома интернет. Есть некоторое количество пропусков, заполним их самым частым значением."
   ]
  },
  {
   "cell_type": "code",
   "execution_count": 172,
   "metadata": {},
   "outputs": [],
   "source": [
    "data.internet = data.internet.apply(lambda x: 1 if pd.isnull(x) else x)"
   ]
  },
  {
   "cell_type": "code",
   "execution_count": null,
   "metadata": {},
   "outputs": [],
   "source": [
    "# romantic"
   ]
  },
  {
   "cell_type": "code",
   "execution_count": 173,
   "metadata": {},
   "outputs": [
    {
     "data": {
      "text/html": [
       "<div>\n",
       "<style scoped>\n",
       "    .dataframe tbody tr th:only-of-type {\n",
       "        vertical-align: middle;\n",
       "    }\n",
       "\n",
       "    .dataframe tbody tr th {\n",
       "        vertical-align: top;\n",
       "    }\n",
       "\n",
       "    .dataframe thead th {\n",
       "        text-align: right;\n",
       "    }\n",
       "</style>\n",
       "<table border=\"1\" class=\"dataframe\">\n",
       "  <thead>\n",
       "    <tr style=\"text-align: right;\">\n",
       "      <th></th>\n",
       "      <th>romantic</th>\n",
       "    </tr>\n",
       "  </thead>\n",
       "  <tbody>\n",
       "    <tr>\n",
       "      <td>0.0</td>\n",
       "      <td>240</td>\n",
       "    </tr>\n",
       "    <tr>\n",
       "      <td>1.0</td>\n",
       "      <td>124</td>\n",
       "    </tr>\n",
       "  </tbody>\n",
       "</table>\n",
       "</div>"
      ],
      "text/plain": [
       "     romantic\n",
       "0.0       240\n",
       "1.0       124"
      ]
     },
     "metadata": {},
     "output_type": "display_data"
    },
    {
     "name": "stdout",
     "output_type": "stream",
     "text": [
      "<class 'pandas.core.frame.DataFrame'>\n",
      "RangeIndex: 395 entries, 0 to 394\n",
      "Data columns (total 1 columns):\n",
      "romantic    364 non-null float64\n",
      "dtypes: float64(1)\n",
      "memory usage: 3.2 KB\n"
     ]
    }
   ],
   "source": [
    "display(pd.DataFrame(data.romantic.value_counts()))\n",
    "data.loc[:,['romantic']].info()"
   ]
  },
  {
   "cell_type": "code",
   "execution_count": 174,
   "metadata": {},
   "outputs": [
    {
     "name": "stdout",
     "output_type": "stream",
     "text": [
      "Количество уникальных значений: 2\n",
      "Количество пропусков: 31\n"
     ]
    }
   ],
   "source": [
    "print('Количество уникальных значений:', data.romantic.nunique())\n",
    "print('Количество пропусков:', data.romantic.isnull().sum())"
   ]
  },
  {
   "cell_type": "markdown",
   "metadata": {},
   "source": [
    "В датасете в два раза больше учеников, которые не состоят в романтических отношениях, чем тех, кто состоит. Есть некоторое количество пропусков, заполним их самым частым значением."
   ]
  },
  {
   "cell_type": "code",
   "execution_count": 175,
   "metadata": {},
   "outputs": [],
   "source": [
    "data.romantic = data.romantic.apply(lambda x: 0 if pd.isnull(x) else x)"
   ]
  },
  {
   "cell_type": "code",
   "execution_count": null,
   "metadata": {},
   "outputs": [],
   "source": [
    "# famrel "
   ]
  },
  {
   "cell_type": "code",
   "execution_count": 176,
   "metadata": {},
   "outputs": [
    {
     "data": {
      "text/html": [
       "<div>\n",
       "<style scoped>\n",
       "    .dataframe tbody tr th:only-of-type {\n",
       "        vertical-align: middle;\n",
       "    }\n",
       "\n",
       "    .dataframe tbody tr th {\n",
       "        vertical-align: top;\n",
       "    }\n",
       "\n",
       "    .dataframe thead th {\n",
       "        text-align: right;\n",
       "    }\n",
       "</style>\n",
       "<table border=\"1\" class=\"dataframe\">\n",
       "  <thead>\n",
       "    <tr style=\"text-align: right;\">\n",
       "      <th></th>\n",
       "      <th>famrel</th>\n",
       "    </tr>\n",
       "  </thead>\n",
       "  <tbody>\n",
       "    <tr>\n",
       "      <td>4.0</td>\n",
       "      <td>182</td>\n",
       "    </tr>\n",
       "    <tr>\n",
       "      <td>5.0</td>\n",
       "      <td>99</td>\n",
       "    </tr>\n",
       "    <tr>\n",
       "      <td>3.0</td>\n",
       "      <td>62</td>\n",
       "    </tr>\n",
       "    <tr>\n",
       "      <td>2.0</td>\n",
       "      <td>17</td>\n",
       "    </tr>\n",
       "    <tr>\n",
       "      <td>1.0</td>\n",
       "      <td>7</td>\n",
       "    </tr>\n",
       "    <tr>\n",
       "      <td>-1.0</td>\n",
       "      <td>1</td>\n",
       "    </tr>\n",
       "  </tbody>\n",
       "</table>\n",
       "</div>"
      ],
      "text/plain": [
       "      famrel\n",
       " 4.0     182\n",
       " 5.0      99\n",
       " 3.0      62\n",
       " 2.0      17\n",
       " 1.0       7\n",
       "-1.0       1"
      ]
     },
     "metadata": {},
     "output_type": "display_data"
    },
    {
     "name": "stdout",
     "output_type": "stream",
     "text": [
      "<class 'pandas.core.frame.DataFrame'>\n",
      "RangeIndex: 395 entries, 0 to 394\n",
      "Data columns (total 1 columns):\n",
      "famrel    368 non-null float64\n",
      "dtypes: float64(1)\n",
      "memory usage: 3.2 KB\n"
     ]
    }
   ],
   "source": [
    "display(pd.DataFrame(data.famrel.value_counts()))\n",
    "data.loc[:,['famrel']].info()"
   ]
  },
  {
   "cell_type": "code",
   "execution_count": 177,
   "metadata": {},
   "outputs": [
    {
     "name": "stdout",
     "output_type": "stream",
     "text": [
      "Количество уникальных значений: 6\n",
      "Количество пропусков: 27\n"
     ]
    }
   ],
   "source": [
    "print('Количество уникальных значений:', data.famrel.nunique())\n",
    "print('Количество пропусков:', data.famrel.isnull().sum())"
   ]
  },
  {
   "cell_type": "code",
   "execution_count": 211,
   "metadata": {},
   "outputs": [
    {
     "data": {
      "text/plain": [
       "<matplotlib.axes._subplots.AxesSubplot at 0x1a25016e10>"
      ]
     },
     "execution_count": 211,
     "metadata": {},
     "output_type": "execute_result"
    },
    {
     "data": {
      "image/png": "[encoded data removed]",
      "text/plain": [
       "<Figure size 432x288 with 1 Axes>"
      ]
     },
     "metadata": {
      "needs_background": "light"
     },
     "output_type": "display_data"
    }
   ],
   "source": [
    "# распределение значений\n",
    "\n",
    "data.famrel.hist()"
   ]
  },
  {
   "cell_type": "markdown",
   "metadata": {},
   "source": [
    "У большинства учеников хорошие отношения в семье (на 4-ку). Есть некорректное начение -1, скорее всего это опечатка, поэтому исправлю его на 1. Есть некоторое количество пропусков, которые мы заполним самым частым значением."
   ]
  },
  {
   "cell_type": "code",
   "execution_count": 149,
   "metadata": {},
   "outputs": [],
   "source": [
    "data.famrel = data.famrel.apply(lambda x: 1 if x == -1 else x)"
   ]
  },
  {
   "cell_type": "code",
   "execution_count": 179,
   "metadata": {},
   "outputs": [],
   "source": [
    "data.famrel = data.famrel.apply(lambda x: 4 if pd.isnull(x) else x)"
   ]
  },
  {
   "cell_type": "code",
   "execution_count": null,
   "metadata": {},
   "outputs": [],
   "source": [
    "# freetime "
   ]
  },
  {
   "cell_type": "code",
   "execution_count": 180,
   "metadata": {},
   "outputs": [
    {
     "data": {
      "text/html": [
       "<div>\n",
       "<style scoped>\n",
       "    .dataframe tbody tr th:only-of-type {\n",
       "        vertical-align: middle;\n",
       "    }\n",
       "\n",
       "    .dataframe tbody tr th {\n",
       "        vertical-align: top;\n",
       "    }\n",
       "\n",
       "    .dataframe thead th {\n",
       "        text-align: right;\n",
       "    }\n",
       "</style>\n",
       "<table border=\"1\" class=\"dataframe\">\n",
       "  <thead>\n",
       "    <tr style=\"text-align: right;\">\n",
       "      <th></th>\n",
       "      <th>freetime</th>\n",
       "    </tr>\n",
       "  </thead>\n",
       "  <tbody>\n",
       "    <tr>\n",
       "      <td>3.0</td>\n",
       "      <td>153</td>\n",
       "    </tr>\n",
       "    <tr>\n",
       "      <td>4.0</td>\n",
       "      <td>112</td>\n",
       "    </tr>\n",
       "    <tr>\n",
       "      <td>2.0</td>\n",
       "      <td>63</td>\n",
       "    </tr>\n",
       "    <tr>\n",
       "      <td>5.0</td>\n",
       "      <td>38</td>\n",
       "    </tr>\n",
       "    <tr>\n",
       "      <td>1.0</td>\n",
       "      <td>18</td>\n",
       "    </tr>\n",
       "  </tbody>\n",
       "</table>\n",
       "</div>"
      ],
      "text/plain": [
       "     freetime\n",
       "3.0       153\n",
       "4.0       112\n",
       "2.0        63\n",
       "5.0        38\n",
       "1.0        18"
      ]
     },
     "metadata": {},
     "output_type": "display_data"
    },
    {
     "name": "stdout",
     "output_type": "stream",
     "text": [
      "<class 'pandas.core.frame.DataFrame'>\n",
      "RangeIndex: 395 entries, 0 to 394\n",
      "Data columns (total 1 columns):\n",
      "freetime    384 non-null float64\n",
      "dtypes: float64(1)\n",
      "memory usage: 3.2 KB\n"
     ]
    }
   ],
   "source": [
    "display(pd.DataFrame(data.freetime.value_counts()))\n",
    "data.loc[:,['freetime']].info()"
   ]
  },
  {
   "cell_type": "code",
   "execution_count": 181,
   "metadata": {},
   "outputs": [
    {
     "name": "stdout",
     "output_type": "stream",
     "text": [
      "Количество уникальных значений: 5\n",
      "Количество пропусков: 11\n"
     ]
    }
   ],
   "source": [
    "print('Количество уникальных значений:', data.freetime.nunique())\n",
    "print('Количество пропусков:', data.freetime.isnull().sum())"
   ]
  },
  {
   "cell_type": "code",
   "execution_count": 212,
   "metadata": {},
   "outputs": [
    {
     "data": {
      "text/plain": [
       "<matplotlib.axes._subplots.AxesSubplot at 0x1a24cfa1d0>"
      ]
     },
     "execution_count": 212,
     "metadata": {},
     "output_type": "execute_result"
    },
    {
     "data": {
      "image/png": "[encoded data removed]",
      "text/plain": [
       "<Figure size 432x288 with 1 Axes>"
      ]
     },
     "metadata": {
      "needs_background": "light"
     },
     "output_type": "display_data"
    }
   ],
   "source": [
    "# распределение значений\n",
    "\n",
    "data.freetime.hist()"
   ]
  },
  {
   "cell_type": "markdown",
   "metadata": {},
   "source": [
    "У большинства учеников среднее количество свободного времени. Есть некоторое количество пропусков, которые мы заполним самым часто встречающимся значением."
   ]
  },
  {
   "cell_type": "code",
   "execution_count": 182,
   "metadata": {},
   "outputs": [],
   "source": [
    "data.freetime = data.freetime.apply(lambda x: 3 if pd.isnull(x) else x)"
   ]
  },
  {
   "cell_type": "code",
   "execution_count": null,
   "metadata": {},
   "outputs": [],
   "source": [
    "# goout"
   ]
  },
  {
   "cell_type": "code",
   "execution_count": 183,
   "metadata": {},
   "outputs": [
    {
     "data": {
      "text/html": [
       "<div>\n",
       "<style scoped>\n",
       "    .dataframe tbody tr th:only-of-type {\n",
       "        vertical-align: middle;\n",
       "    }\n",
       "\n",
       "    .dataframe tbody tr th {\n",
       "        vertical-align: top;\n",
       "    }\n",
       "\n",
       "    .dataframe thead th {\n",
       "        text-align: right;\n",
       "    }\n",
       "</style>\n",
       "<table border=\"1\" class=\"dataframe\">\n",
       "  <thead>\n",
       "    <tr style=\"text-align: right;\">\n",
       "      <th></th>\n",
       "      <th>goout</th>\n",
       "    </tr>\n",
       "  </thead>\n",
       "  <tbody>\n",
       "    <tr>\n",
       "      <td>3.0</td>\n",
       "      <td>127</td>\n",
       "    </tr>\n",
       "    <tr>\n",
       "      <td>2.0</td>\n",
       "      <td>101</td>\n",
       "    </tr>\n",
       "    <tr>\n",
       "      <td>4.0</td>\n",
       "      <td>84</td>\n",
       "    </tr>\n",
       "    <tr>\n",
       "      <td>5.0</td>\n",
       "      <td>52</td>\n",
       "    </tr>\n",
       "    <tr>\n",
       "      <td>1.0</td>\n",
       "      <td>23</td>\n",
       "    </tr>\n",
       "  </tbody>\n",
       "</table>\n",
       "</div>"
      ],
      "text/plain": [
       "     goout\n",
       "3.0    127\n",
       "2.0    101\n",
       "4.0     84\n",
       "5.0     52\n",
       "1.0     23"
      ]
     },
     "metadata": {},
     "output_type": "display_data"
    },
    {
     "name": "stdout",
     "output_type": "stream",
     "text": [
      "<class 'pandas.core.frame.DataFrame'>\n",
      "RangeIndex: 395 entries, 0 to 394\n",
      "Data columns (total 1 columns):\n",
      "goout    387 non-null float64\n",
      "dtypes: float64(1)\n",
      "memory usage: 3.2 KB\n"
     ]
    }
   ],
   "source": [
    "display(pd.DataFrame(data.goout.value_counts()))\n",
    "data.loc[:,['goout']].info()"
   ]
  },
  {
   "cell_type": "code",
   "execution_count": 184,
   "metadata": {},
   "outputs": [
    {
     "name": "stdout",
     "output_type": "stream",
     "text": [
      "Количество уникальных значений: 5\n",
      "Количество пропусков: 8\n"
     ]
    }
   ],
   "source": [
    "print('Количество уникальных значений:', data.goout.nunique())\n",
    "print('Количество пропусков:', data.goout.isnull().sum())"
   ]
  },
  {
   "cell_type": "code",
   "execution_count": 213,
   "metadata": {},
   "outputs": [
    {
     "data": {
      "text/plain": [
       "<matplotlib.axes._subplots.AxesSubplot at 0x1a24734f50>"
      ]
     },
     "execution_count": 213,
     "metadata": {},
     "output_type": "execute_result"
    },
    {
     "data": {
      "image/png": "[encoded data removed]",
      "text/plain": [
       "<Figure size 432x288 with 1 Axes>"
      ]
     },
     "metadata": {
      "needs_background": "light"
     },
     "output_type": "display_data"
    }
   ],
   "source": [
    "# распределение значений\n",
    "\n",
    "data.goout.hist()"
   ]
  },
  {
   "cell_type": "markdown",
   "metadata": {},
   "source": [
    "Большинство учеников проводят с друзьями среднее количество времени. Есть небольшое количество пропусков, которые мы заполним самым часто встречающимся значением."
   ]
  },
  {
   "cell_type": "code",
   "execution_count": 185,
   "metadata": {},
   "outputs": [],
   "source": [
    "data.goout = data.goout.apply(lambda x: 3 if pd.isnull(x) else x)"
   ]
  },
  {
   "cell_type": "code",
   "execution_count": null,
   "metadata": {},
   "outputs": [],
   "source": [
    "# health"
   ]
  },
  {
   "cell_type": "code",
   "execution_count": 186,
   "metadata": {},
   "outputs": [
    {
     "data": {
      "text/html": [
       "<div>\n",
       "<style scoped>\n",
       "    .dataframe tbody tr th:only-of-type {\n",
       "        vertical-align: middle;\n",
       "    }\n",
       "\n",
       "    .dataframe tbody tr th {\n",
       "        vertical-align: top;\n",
       "    }\n",
       "\n",
       "    .dataframe thead th {\n",
       "        text-align: right;\n",
       "    }\n",
       "</style>\n",
       "<table border=\"1\" class=\"dataframe\">\n",
       "  <thead>\n",
       "    <tr style=\"text-align: right;\">\n",
       "      <th></th>\n",
       "      <th>health</th>\n",
       "    </tr>\n",
       "  </thead>\n",
       "  <tbody>\n",
       "    <tr>\n",
       "      <td>5.0</td>\n",
       "      <td>138</td>\n",
       "    </tr>\n",
       "    <tr>\n",
       "      <td>3.0</td>\n",
       "      <td>89</td>\n",
       "    </tr>\n",
       "    <tr>\n",
       "      <td>4.0</td>\n",
       "      <td>63</td>\n",
       "    </tr>\n",
       "    <tr>\n",
       "      <td>1.0</td>\n",
       "      <td>47</td>\n",
       "    </tr>\n",
       "    <tr>\n",
       "      <td>2.0</td>\n",
       "      <td>43</td>\n",
       "    </tr>\n",
       "  </tbody>\n",
       "</table>\n",
       "</div>"
      ],
      "text/plain": [
       "     health\n",
       "5.0     138\n",
       "3.0      89\n",
       "4.0      63\n",
       "1.0      47\n",
       "2.0      43"
      ]
     },
     "metadata": {},
     "output_type": "display_data"
    },
    {
     "name": "stdout",
     "output_type": "stream",
     "text": [
      "<class 'pandas.core.frame.DataFrame'>\n",
      "RangeIndex: 395 entries, 0 to 394\n",
      "Data columns (total 1 columns):\n",
      "health    380 non-null float64\n",
      "dtypes: float64(1)\n",
      "memory usage: 3.2 KB\n"
     ]
    }
   ],
   "source": [
    "display(pd.DataFrame(data.health.value_counts()))\n",
    "data.loc[:,['health']].info()"
   ]
  },
  {
   "cell_type": "code",
   "execution_count": 187,
   "metadata": {},
   "outputs": [
    {
     "name": "stdout",
     "output_type": "stream",
     "text": [
      "Количество уникальных значений: 5\n",
      "Количество пропусков: 15\n"
     ]
    }
   ],
   "source": [
    "print('Количество уникальных значений:', data.health.nunique())\n",
    "print('Количество пропусков:', data.health.isnull().sum())"
   ]
  },
  {
   "cell_type": "code",
   "execution_count": 214,
   "metadata": {},
   "outputs": [
    {
     "data": {
      "text/plain": [
       "<matplotlib.axes._subplots.AxesSubplot at 0x1a248af050>"
      ]
     },
     "execution_count": 214,
     "metadata": {},
     "output_type": "execute_result"
    },
    {
     "data": {
      "image/png": "[encoded data removed]",
      "text/plain": [
       "<Figure size 432x288 with 1 Axes>"
      ]
     },
     "metadata": {
      "needs_background": "light"
     },
     "output_type": "display_data"
    }
   ],
   "source": [
    "# распределение значений\n",
    "\n",
    "data.health.hist()"
   ]
  },
  {
   "cell_type": "markdown",
   "metadata": {},
   "source": [
    "У большинства учеников отличное здоровье. Есть некоторое количество пропусков, которые мы заполним самым часто встречающтимся значением."
   ]
  },
  {
   "cell_type": "code",
   "execution_count": 188,
   "metadata": {},
   "outputs": [],
   "source": [
    "data.health = data.health.apply(lambda x: 5 if pd.isnull(x) else x)"
   ]
  },
  {
   "cell_type": "code",
   "execution_count": 189,
   "metadata": {},
   "outputs": [
    {
     "data": {
      "text/plain": [
       "<matplotlib.axes._subplots.AxesSubplot at 0x1a23d53910>"
      ]
     },
     "execution_count": 189,
     "metadata": {},
     "output_type": "execute_result"
    },
    {
     "data": {
      "image/png": "[encoded data removed]",
      "text/plain": [
       "<Figure size 432x288 with 1 Axes>"
      ]
     },
     "metadata": {
      "needs_background": "light"
     },
     "output_type": "display_data"
    }
   ],
   "source": [
    "# распределение значений\n",
    "\n",
    "data.health.hist()"
   ]
  },
  {
   "cell_type": "code",
   "execution_count": null,
   "metadata": {},
   "outputs": [],
   "source": [
    "# absences"
   ]
  },
  {
   "cell_type": "code",
   "execution_count": 190,
   "metadata": {},
   "outputs": [
    {
     "data": {
      "text/html": [
       "<div>\n",
       "<style scoped>\n",
       "    .dataframe tbody tr th:only-of-type {\n",
       "        vertical-align: middle;\n",
       "    }\n",
       "\n",
       "    .dataframe tbody tr th {\n",
       "        vertical-align: top;\n",
       "    }\n",
       "\n",
       "    .dataframe thead th {\n",
       "        text-align: right;\n",
       "    }\n",
       "</style>\n",
       "<table border=\"1\" class=\"dataframe\">\n",
       "  <thead>\n",
       "    <tr style=\"text-align: right;\">\n",
       "      <th></th>\n",
       "      <th>absences</th>\n",
       "    </tr>\n",
       "  </thead>\n",
       "  <tbody>\n",
       "    <tr>\n",
       "      <td>0.0</td>\n",
       "      <td>111</td>\n",
       "    </tr>\n",
       "    <tr>\n",
       "      <td>2.0</td>\n",
       "      <td>60</td>\n",
       "    </tr>\n",
       "    <tr>\n",
       "      <td>4.0</td>\n",
       "      <td>53</td>\n",
       "    </tr>\n",
       "    <tr>\n",
       "      <td>6.0</td>\n",
       "      <td>31</td>\n",
       "    </tr>\n",
       "    <tr>\n",
       "      <td>8.0</td>\n",
       "      <td>21</td>\n",
       "    </tr>\n",
       "    <tr>\n",
       "      <td>10.0</td>\n",
       "      <td>17</td>\n",
       "    </tr>\n",
       "    <tr>\n",
       "      <td>12.0</td>\n",
       "      <td>12</td>\n",
       "    </tr>\n",
       "    <tr>\n",
       "      <td>14.0</td>\n",
       "      <td>12</td>\n",
       "    </tr>\n",
       "    <tr>\n",
       "      <td>3.0</td>\n",
       "      <td>8</td>\n",
       "    </tr>\n",
       "    <tr>\n",
       "      <td>16.0</td>\n",
       "      <td>7</td>\n",
       "    </tr>\n",
       "    <tr>\n",
       "      <td>7.0</td>\n",
       "      <td>6</td>\n",
       "    </tr>\n",
       "    <tr>\n",
       "      <td>5.0</td>\n",
       "      <td>5</td>\n",
       "    </tr>\n",
       "    <tr>\n",
       "      <td>18.0</td>\n",
       "      <td>5</td>\n",
       "    </tr>\n",
       "    <tr>\n",
       "      <td>20.0</td>\n",
       "      <td>4</td>\n",
       "    </tr>\n",
       "    <tr>\n",
       "      <td>22.0</td>\n",
       "      <td>3</td>\n",
       "    </tr>\n",
       "    <tr>\n",
       "      <td>9.0</td>\n",
       "      <td>3</td>\n",
       "    </tr>\n",
       "    <tr>\n",
       "      <td>1.0</td>\n",
       "      <td>3</td>\n",
       "    </tr>\n",
       "    <tr>\n",
       "      <td>15.0</td>\n",
       "      <td>2</td>\n",
       "    </tr>\n",
       "    <tr>\n",
       "      <td>13.0</td>\n",
       "      <td>2</td>\n",
       "    </tr>\n",
       "    <tr>\n",
       "      <td>11.0</td>\n",
       "      <td>2</td>\n",
       "    </tr>\n",
       "    <tr>\n",
       "      <td>25.0</td>\n",
       "      <td>1</td>\n",
       "    </tr>\n",
       "    <tr>\n",
       "      <td>54.0</td>\n",
       "      <td>1</td>\n",
       "    </tr>\n",
       "    <tr>\n",
       "      <td>385.0</td>\n",
       "      <td>1</td>\n",
       "    </tr>\n",
       "    <tr>\n",
       "      <td>26.0</td>\n",
       "      <td>1</td>\n",
       "    </tr>\n",
       "    <tr>\n",
       "      <td>56.0</td>\n",
       "      <td>1</td>\n",
       "    </tr>\n",
       "    <tr>\n",
       "      <td>24.0</td>\n",
       "      <td>1</td>\n",
       "    </tr>\n",
       "    <tr>\n",
       "      <td>212.0</td>\n",
       "      <td>1</td>\n",
       "    </tr>\n",
       "    <tr>\n",
       "      <td>21.0</td>\n",
       "      <td>1</td>\n",
       "    </tr>\n",
       "    <tr>\n",
       "      <td>75.0</td>\n",
       "      <td>1</td>\n",
       "    </tr>\n",
       "    <tr>\n",
       "      <td>30.0</td>\n",
       "      <td>1</td>\n",
       "    </tr>\n",
       "    <tr>\n",
       "      <td>19.0</td>\n",
       "      <td>1</td>\n",
       "    </tr>\n",
       "    <tr>\n",
       "      <td>38.0</td>\n",
       "      <td>1</td>\n",
       "    </tr>\n",
       "    <tr>\n",
       "      <td>40.0</td>\n",
       "      <td>1</td>\n",
       "    </tr>\n",
       "    <tr>\n",
       "      <td>23.0</td>\n",
       "      <td>1</td>\n",
       "    </tr>\n",
       "    <tr>\n",
       "      <td>17.0</td>\n",
       "      <td>1</td>\n",
       "    </tr>\n",
       "    <tr>\n",
       "      <td>28.0</td>\n",
       "      <td>1</td>\n",
       "    </tr>\n",
       "  </tbody>\n",
       "</table>\n",
       "</div>"
      ],
      "text/plain": [
       "       absences\n",
       "0.0         111\n",
       "2.0          60\n",
       "4.0          53\n",
       "6.0          31\n",
       "8.0          21\n",
       "10.0         17\n",
       "12.0         12\n",
       "14.0         12\n",
       "3.0           8\n",
       "16.0          7\n",
       "7.0           6\n",
       "5.0           5\n",
       "18.0          5\n",
       "20.0          4\n",
       "22.0          3\n",
       "9.0           3\n",
       "1.0           3\n",
       "15.0          2\n",
       "13.0          2\n",
       "11.0          2\n",
       "25.0          1\n",
       "54.0          1\n",
       "385.0         1\n",
       "26.0          1\n",
       "56.0          1\n",
       "24.0          1\n",
       "212.0         1\n",
       "21.0          1\n",
       "75.0          1\n",
       "30.0          1\n",
       "19.0          1\n",
       "38.0          1\n",
       "40.0          1\n",
       "23.0          1\n",
       "17.0          1\n",
       "28.0          1"
      ]
     },
     "metadata": {},
     "output_type": "display_data"
    },
    {
     "name": "stdout",
     "output_type": "stream",
     "text": [
      "<class 'pandas.core.frame.DataFrame'>\n",
      "RangeIndex: 395 entries, 0 to 394\n",
      "Data columns (total 1 columns):\n",
      "absences    383 non-null float64\n",
      "dtypes: float64(1)\n",
      "memory usage: 3.2 KB\n"
     ]
    }
   ],
   "source": [
    "display(pd.DataFrame(data.absences.value_counts()))\n",
    "data.loc[:,['absences']].info()"
   ]
  },
  {
   "cell_type": "code",
   "execution_count": 191,
   "metadata": {},
   "outputs": [
    {
     "name": "stdout",
     "output_type": "stream",
     "text": [
      "Количество уникальных значений: 36\n",
      "Количество пропусков: 12\n"
     ]
    }
   ],
   "source": [
    "print('Количество уникальных значений:', data.absences.nunique())\n",
    "print('Количество пропусков:', data.absences.isnull().sum())"
   ]
  },
  {
   "cell_type": "code",
   "execution_count": 192,
   "metadata": {},
   "outputs": [],
   "source": [
    "# заполним пропуски самым частым значением\n",
    "\n",
    "data.absences = data.absences.apply(lambda x: 0 if pd.isnull(x) else x)"
   ]
  },
  {
   "cell_type": "code",
   "execution_count": 193,
   "metadata": {},
   "outputs": [
    {
     "data": {
      "text/plain": [
       "count    395.000000\n",
       "mean       7.058228\n",
       "std       23.138935\n",
       "min        0.000000\n",
       "25%        0.000000\n",
       "50%        4.000000\n",
       "75%        8.000000\n",
       "max      385.000000\n",
       "Name: absences, dtype: float64"
      ]
     },
     "metadata": {},
     "output_type": "display_data"
    },
    {
     "data": {
      "text/plain": [
       "<matplotlib.axes._subplots.AxesSubplot at 0x1a23e24450>"
      ]
     },
     "execution_count": 193,
     "metadata": {},
     "output_type": "execute_result"
    },
    {
     "data": {
      "image/png": "[encoded data removed]",
      "text/plain": [
       "<Figure size 432x288 with 1 Axes>"
      ]
     },
     "metadata": {
      "needs_background": "light"
     },
     "output_type": "display_data"
    }
   ],
   "source": [
    "display(data.absences.describe())\n",
    "data.absences.hist()"
   ]
  },
  {
   "cell_type": "markdown",
   "metadata": {},
   "source": [
    "Большинство учеников занятия не пропускали. По гистограмме видим, основное распределение лежит между 0 и примерно 40. Есть явные выбросы 385 (больше, чем дней в году) и 212 (больше, чем полгода, за такое количество пропусков уже давно бы исключили). Отфильтруем выбросы, воспользуясь формулой интерквартильного расстояния."
   ]
  },
  {
   "cell_type": "code",
   "execution_count": 194,
   "metadata": {},
   "outputs": [
    {
     "name": "stdout",
     "output_type": "stream",
     "text": [
      "25-й перцентиль: 0.0, 75-й перцентиль: 8.0, IQR: 8.0,  Границы выбросов: [-12.0, 20.0].\n"
     ]
    },
    {
     "data": {
      "image/png": "[encoded data removed]",
      "text/plain": [
       "<Figure size 432x288 with 1 Axes>"
      ]
     },
     "metadata": {
      "needs_background": "light"
     },
     "output_type": "display_data"
    }
   ],
   "source": [
    "median = data.absences.median()\n",
    "perc25 = data.absences.quantile(0.25)\n",
    "perc75 = data.absences.quantile(0.75)\n",
    "IQR = perc75 - perc25\n",
    "print('25-й перцентиль: {},'.format(perc25), '75-й перцентиль: {},'.format(perc75)\n",
    "      , \"IQR: {}, \".format(IQR),\"Границы выбросов: [{f}, {l}].\".format(f=perc25 - 1.5*IQR, l=perc75 + 1.5*IQR))\n",
    "data.absences.loc[data.absences.between(perc25 - 1.5*IQR, perc75 + 1.5*IQR)].hist(bins = 16\n",
    "                                                                                              , range = (0, 40), \n",
    "                                                                                             label = 'IQR')\n",
    "data.absences.loc[data.absences <= 40].hist(alpha = 0.5, bins = 16, range = (0, 40),\n",
    "                                                        label = 'Здравый смысл')\n",
    "plt.legend();"
   ]
  },
  {
   "cell_type": "markdown",
   "metadata": {},
   "source": [
    "Метод интерквартильного расстояния отбрасывает некоторое количество потенциально реальных значений. Не будем жертвовать ими, поэтому отфильтруем значения, которые не превышают 40."
   ]
  },
  {
   "cell_type": "code",
   "execution_count": 195,
   "metadata": {},
   "outputs": [],
   "source": [
    "data = data.loc[data.absences <= 40]"
   ]
  },
  {
   "cell_type": "code",
   "execution_count": null,
   "metadata": {},
   "outputs": [],
   "source": [
    "# score"
   ]
  },
  {
   "cell_type": "code",
   "execution_count": 196,
   "metadata": {},
   "outputs": [
    {
     "data": {
      "text/html": [
       "<div>\n",
       "<style scoped>\n",
       "    .dataframe tbody tr th:only-of-type {\n",
       "        vertical-align: middle;\n",
       "    }\n",
       "\n",
       "    .dataframe tbody tr th {\n",
       "        vertical-align: top;\n",
       "    }\n",
       "\n",
       "    .dataframe thead th {\n",
       "        text-align: right;\n",
       "    }\n",
       "</style>\n",
       "<table border=\"1\" class=\"dataframe\">\n",
       "  <thead>\n",
       "    <tr style=\"text-align: right;\">\n",
       "      <th></th>\n",
       "      <th>score</th>\n",
       "    </tr>\n",
       "  </thead>\n",
       "  <tbody>\n",
       "    <tr>\n",
       "      <td>50.0</td>\n",
       "      <td>54</td>\n",
       "    </tr>\n",
       "    <tr>\n",
       "      <td>55.0</td>\n",
       "      <td>45</td>\n",
       "    </tr>\n",
       "    <tr>\n",
       "      <td>0.0</td>\n",
       "      <td>37</td>\n",
       "    </tr>\n",
       "    <tr>\n",
       "      <td>75.0</td>\n",
       "      <td>33</td>\n",
       "    </tr>\n",
       "    <tr>\n",
       "      <td>65.0</td>\n",
       "      <td>31</td>\n",
       "    </tr>\n",
       "    <tr>\n",
       "      <td>60.0</td>\n",
       "      <td>31</td>\n",
       "    </tr>\n",
       "    <tr>\n",
       "      <td>40.0</td>\n",
       "      <td>30</td>\n",
       "    </tr>\n",
       "    <tr>\n",
       "      <td>70.0</td>\n",
       "      <td>27</td>\n",
       "    </tr>\n",
       "    <tr>\n",
       "      <td>45.0</td>\n",
       "      <td>25</td>\n",
       "    </tr>\n",
       "    <tr>\n",
       "      <td>80.0</td>\n",
       "      <td>16</td>\n",
       "    </tr>\n",
       "    <tr>\n",
       "      <td>30.0</td>\n",
       "      <td>15</td>\n",
       "    </tr>\n",
       "    <tr>\n",
       "      <td>90.0</td>\n",
       "      <td>12</td>\n",
       "    </tr>\n",
       "    <tr>\n",
       "      <td>35.0</td>\n",
       "      <td>9</td>\n",
       "    </tr>\n",
       "    <tr>\n",
       "      <td>25.0</td>\n",
       "      <td>7</td>\n",
       "    </tr>\n",
       "    <tr>\n",
       "      <td>85.0</td>\n",
       "      <td>5</td>\n",
       "    </tr>\n",
       "    <tr>\n",
       "      <td>95.0</td>\n",
       "      <td>5</td>\n",
       "    </tr>\n",
       "    <tr>\n",
       "      <td>100.0</td>\n",
       "      <td>1</td>\n",
       "    </tr>\n",
       "    <tr>\n",
       "      <td>20.0</td>\n",
       "      <td>1</td>\n",
       "    </tr>\n",
       "  </tbody>\n",
       "</table>\n",
       "</div>"
      ],
      "text/plain": [
       "       score\n",
       "50.0      54\n",
       "55.0      45\n",
       "0.0       37\n",
       "75.0      33\n",
       "65.0      31\n",
       "60.0      31\n",
       "40.0      30\n",
       "70.0      27\n",
       "45.0      25\n",
       "80.0      16\n",
       "30.0      15\n",
       "90.0      12\n",
       "35.0       9\n",
       "25.0       7\n",
       "85.0       5\n",
       "95.0       5\n",
       "100.0      1\n",
       "20.0       1"
      ]
     },
     "metadata": {},
     "output_type": "display_data"
    },
    {
     "name": "stdout",
     "output_type": "stream",
     "text": [
      "<class 'pandas.core.frame.DataFrame'>\n",
      "Int64Index: 390 entries, 0 to 394\n",
      "Data columns (total 1 columns):\n",
      "score    384 non-null float64\n",
      "dtypes: float64(1)\n",
      "memory usage: 6.1 KB\n"
     ]
    }
   ],
   "source": [
    "display(pd.DataFrame(data.score.value_counts()))\n",
    "data.loc[:,['score']].info()"
   ]
  },
  {
   "cell_type": "code",
   "execution_count": 197,
   "metadata": {},
   "outputs": [
    {
     "name": "stdout",
     "output_type": "stream",
     "text": [
      "Количество уникальных значений: 18\n",
      "Количество пропусков: 6\n"
     ]
    }
   ],
   "source": [
    "print('Количество уникальных значений:', data.score.nunique())\n",
    "print('Количество пропусков:', data.score.isnull().sum())"
   ]
  },
  {
   "cell_type": "code",
   "execution_count": 159,
   "metadata": {},
   "outputs": [
    {
     "data": {
      "text/plain": [
       "count    373.000000\n",
       "mean      52.010724\n",
       "std       22.877182\n",
       "min        0.000000\n",
       "25%       40.000000\n",
       "50%       55.000000\n",
       "75%       70.000000\n",
       "max      100.000000\n",
       "Name: score, dtype: float64"
      ]
     },
     "metadata": {},
     "output_type": "display_data"
    },
    {
     "data": {
      "text/plain": [
       "<matplotlib.axes._subplots.AxesSubplot at 0x1a2376d790>"
      ]
     },
     "execution_count": 159,
     "metadata": {},
     "output_type": "execute_result"
    },
    {
     "data": {
      "image/png": "[encoded data removed]",
      "text/plain": [
       "<Figure size 432x288 with 1 Axes>"
      ]
     },
     "metadata": {
      "needs_background": "light"
     },
     "output_type": "display_data"
    }
   ],
   "source": [
    "display(data.score.describe())\n",
    "data.score.hist()"
   ]
  },
  {
   "cell_type": "markdown",
   "metadata": {},
   "source": [
    "Наша целевая переменная, есть несколько пропусков, которые заполнять не будем, т.к. значений, встретившихся боьшое количество раз, довально много. Шкала оценки стобальная. Основное распределение сосредоточено в интервале от 20 до 100. Здравый смысл подсказывает, что оценка 0 маловероятна, но таких значений достаточно много. Проверим на выбросы."
   ]
  },
  {
   "cell_type": "code",
   "execution_count": 198,
   "metadata": {},
   "outputs": [
    {
     "name": "stdout",
     "output_type": "stream",
     "text": [
      "25-й перцентиль: 40.0, 75-й перцентиль: 70.0, IQR: 30.0,  Границы выбросов: [-5.0, 115.0].\n"
     ]
    },
    {
     "data": {
      "image/png": "[encoded data removed]",
      "text/plain": [
       "<Figure size 432x288 with 1 Axes>"
      ]
     },
     "metadata": {
      "needs_background": "light"
     },
     "output_type": "display_data"
    }
   ],
   "source": [
    "median = data.score.median()\n",
    "perc25 = data.score.quantile(0.25)\n",
    "perc75 = data.score.quantile(0.75)\n",
    "IQR = perc75 - perc25\n",
    "print('25-й перцентиль: {},'.format(perc25), '75-й перцентиль: {},'.format(perc75)\n",
    "      , \"IQR: {}, \".format(IQR),\"Границы выбросов: [{f}, {l}].\".format(f=perc25 - 1.5*IQR, l=perc75 + 1.5*IQR))\n",
    "data.score.loc[data.score.between(perc25 - 1.5*IQR, perc75 + 1.5*IQR)].hist(bins = 10\n",
    "                                                                                              , range = (0, 100), \n",
    "                                                                                             label = 'IQR')\n",
    "plt.legend();"
   ]
  },
  {
   "cell_type": "markdown",
   "metadata": {},
   "source": [
    "Метод интерквартильного расстояния показал, что выбросов для признака score у нас нет. Возможно, 0 баллов у тех, кто вообще не сдавал экзамен."
   ]
  },
  {
   "cell_type": "markdown",
   "metadata": {},
   "source": [
    "Перед построением матрицы корреляций, преобразуем данные признаков, у которых всего два значения в формат 1 и 0."
   ]
  },
  {
   "cell_type": "code",
   "execution_count": 199,
   "metadata": {},
   "outputs": [],
   "source": [
    "# применим функцию to_bool к нужным столбцам\n",
    "\n",
    "columns = ['school', 'sex', 'address', 'famsize', 'Pstatus']\n",
    "\n",
    "for item in columns:\n",
    "    data[item] = data[item].apply(to_bool)"
   ]
  },
  {
   "cell_type": "code",
   "execution_count": 200,
   "metadata": {},
   "outputs": [
    {
     "data": {
      "text/html": [
       "<div>\n",
       "<style scoped>\n",
       "    .dataframe tbody tr th:only-of-type {\n",
       "        vertical-align: middle;\n",
       "    }\n",
       "\n",
       "    .dataframe tbody tr th {\n",
       "        vertical-align: top;\n",
       "    }\n",
       "\n",
       "    .dataframe thead th {\n",
       "        text-align: right;\n",
       "    }\n",
       "</style>\n",
       "<table border=\"1\" class=\"dataframe\">\n",
       "  <thead>\n",
       "    <tr style=\"text-align: right;\">\n",
       "      <th></th>\n",
       "      <th>school</th>\n",
       "      <th>sex</th>\n",
       "      <th>age</th>\n",
       "      <th>address</th>\n",
       "      <th>famsize</th>\n",
       "      <th>Pstatus</th>\n",
       "      <th>Medu</th>\n",
       "      <th>Fedu</th>\n",
       "      <th>traveltime</th>\n",
       "      <th>studytime</th>\n",
       "      <th>failures</th>\n",
       "      <th>schoolsup</th>\n",
       "      <th>famsup</th>\n",
       "      <th>paid</th>\n",
       "      <th>activities</th>\n",
       "      <th>nursery</th>\n",
       "      <th>studytime_granular</th>\n",
       "      <th>higher</th>\n",
       "      <th>internet</th>\n",
       "      <th>romantic</th>\n",
       "      <th>famrel</th>\n",
       "      <th>freetime</th>\n",
       "      <th>goout</th>\n",
       "      <th>health</th>\n",
       "      <th>absences</th>\n",
       "      <th>score</th>\n",
       "    </tr>\n",
       "  </thead>\n",
       "  <tbody>\n",
       "    <tr>\n",
       "      <td>school</td>\n",
       "      <td>1.000000</td>\n",
       "      <td>-0.023485</td>\n",
       "      <td>-0.367364</td>\n",
       "      <td>0.266646</td>\n",
       "      <td>0.052194</td>\n",
       "      <td>-0.083162</td>\n",
       "      <td>0.132883</td>\n",
       "      <td>0.055204</td>\n",
       "      <td>-0.242390</td>\n",
       "      <td>0.093101</td>\n",
       "      <td>-0.051997</td>\n",
       "      <td>0.136904</td>\n",
       "      <td>0.204981</td>\n",
       "      <td>0.027185</td>\n",
       "      <td>0.110718</td>\n",
       "      <td>0.100322</td>\n",
       "      <td>-0.093101</td>\n",
       "      <td>0.035308</td>\n",
       "      <td>0.084255</td>\n",
       "      <td>-0.067909</td>\n",
       "      <td>0.039146</td>\n",
       "      <td>-0.022480</td>\n",
       "      <td>0.015167</td>\n",
       "      <td>0.054228</td>\n",
       "      <td>0.097448</td>\n",
       "      <td>0.042207</td>\n",
       "    </tr>\n",
       "    <tr>\n",
       "      <td>sex</td>\n",
       "      <td>-0.023485</td>\n",
       "      <td>1.000000</td>\n",
       "      <td>0.035668</td>\n",
       "      <td>-0.001357</td>\n",
       "      <td>0.080126</td>\n",
       "      <td>-0.040316</td>\n",
       "      <td>-0.085393</td>\n",
       "      <td>0.026688</td>\n",
       "      <td>-0.050521</td>\n",
       "      <td>0.306941</td>\n",
       "      <td>-0.020283</td>\n",
       "      <td>0.129629</td>\n",
       "      <td>0.168425</td>\n",
       "      <td>0.115332</td>\n",
       "      <td>-0.116004</td>\n",
       "      <td>-0.002567</td>\n",
       "      <td>-0.306941</td>\n",
       "      <td>0.156967</td>\n",
       "      <td>-0.077153</td>\n",
       "      <td>0.134914</td>\n",
       "      <td>-0.045914</td>\n",
       "      <td>-0.224075</td>\n",
       "      <td>-0.074812</td>\n",
       "      <td>-0.142768</td>\n",
       "      <td>0.029109</td>\n",
       "      <td>-0.102819</td>\n",
       "    </tr>\n",
       "    <tr>\n",
       "      <td>age</td>\n",
       "      <td>-0.367364</td>\n",
       "      <td>0.035668</td>\n",
       "      <td>1.000000</td>\n",
       "      <td>-0.137133</td>\n",
       "      <td>-0.008411</td>\n",
       "      <td>0.045591</td>\n",
       "      <td>-0.159511</td>\n",
       "      <td>-0.130644</td>\n",
       "      <td>0.086332</td>\n",
       "      <td>-0.015196</td>\n",
       "      <td>0.217057</td>\n",
       "      <td>-0.247986</td>\n",
       "      <td>-0.156028</td>\n",
       "      <td>-0.021268</td>\n",
       "      <td>-0.122481</td>\n",
       "      <td>-0.092961</td>\n",
       "      <td>0.015196</td>\n",
       "      <td>-0.198709</td>\n",
       "      <td>-0.088287</td>\n",
       "      <td>0.153272</td>\n",
       "      <td>0.056258</td>\n",
       "      <td>0.020399</td>\n",
       "      <td>0.133803</td>\n",
       "      <td>-0.064287</td>\n",
       "      <td>0.180199</td>\n",
       "      <td>-0.152458</td>\n",
       "    </tr>\n",
       "    <tr>\n",
       "      <td>address</td>\n",
       "      <td>0.266646</td>\n",
       "      <td>-0.001357</td>\n",
       "      <td>-0.137133</td>\n",
       "      <td>1.000000</td>\n",
       "      <td>-0.057836</td>\n",
       "      <td>-0.070235</td>\n",
       "      <td>0.150816</td>\n",
       "      <td>0.052962</td>\n",
       "      <td>-0.253152</td>\n",
       "      <td>-0.043854</td>\n",
       "      <td>-0.086257</td>\n",
       "      <td>0.024729</td>\n",
       "      <td>0.042113</td>\n",
       "      <td>0.053730</td>\n",
       "      <td>-0.056448</td>\n",
       "      <td>0.025170</td>\n",
       "      <td>0.043854</td>\n",
       "      <td>0.036449</td>\n",
       "      <td>0.206752</td>\n",
       "      <td>-0.004733</td>\n",
       "      <td>-0.012965</td>\n",
       "      <td>0.049780</td>\n",
       "      <td>0.064421</td>\n",
       "      <td>-0.035424</td>\n",
       "      <td>-0.003223</td>\n",
       "      <td>0.120007</td>\n",
       "    </tr>\n",
       "    <tr>\n",
       "      <td>famsize</td>\n",
       "      <td>0.052194</td>\n",
       "      <td>0.080126</td>\n",
       "      <td>-0.008411</td>\n",
       "      <td>-0.057836</td>\n",
       "      <td>1.000000</td>\n",
       "      <td>0.058323</td>\n",
       "      <td>0.046950</td>\n",
       "      <td>0.057343</td>\n",
       "      <td>-0.041849</td>\n",
       "      <td>0.076070</td>\n",
       "      <td>0.003070</td>\n",
       "      <td>0.020795</td>\n",
       "      <td>0.098273</td>\n",
       "      <td>0.085152</td>\n",
       "      <td>0.020048</td>\n",
       "      <td>-0.086711</td>\n",
       "      <td>-0.076070</td>\n",
       "      <td>0.031790</td>\n",
       "      <td>-0.013415</td>\n",
       "      <td>-0.001918</td>\n",
       "      <td>0.031190</td>\n",
       "      <td>-0.006157</td>\n",
       "      <td>-0.027109</td>\n",
       "      <td>0.027580</td>\n",
       "      <td>-0.002683</td>\n",
       "      <td>-0.071203</td>\n",
       "    </tr>\n",
       "    <tr>\n",
       "      <td>Pstatus</td>\n",
       "      <td>-0.083162</td>\n",
       "      <td>-0.040316</td>\n",
       "      <td>0.045591</td>\n",
       "      <td>-0.070235</td>\n",
       "      <td>0.058323</td>\n",
       "      <td>1.000000</td>\n",
       "      <td>-0.132689</td>\n",
       "      <td>-0.035037</td>\n",
       "      <td>0.092876</td>\n",
       "      <td>0.003334</td>\n",
       "      <td>0.022719</td>\n",
       "      <td>-0.047394</td>\n",
       "      <td>0.001074</td>\n",
       "      <td>0.024916</td>\n",
       "      <td>0.073694</td>\n",
       "      <td>-0.086349</td>\n",
       "      <td>-0.003334</td>\n",
       "      <td>-0.067980</td>\n",
       "      <td>0.031472</td>\n",
       "      <td>-0.046347</td>\n",
       "      <td>0.020349</td>\n",
       "      <td>0.044369</td>\n",
       "      <td>0.031725</td>\n",
       "      <td>0.019318</td>\n",
       "      <td>-0.112754</td>\n",
       "      <td>-0.047448</td>\n",
       "    </tr>\n",
       "    <tr>\n",
       "      <td>Medu</td>\n",
       "      <td>0.132883</td>\n",
       "      <td>-0.085393</td>\n",
       "      <td>-0.159511</td>\n",
       "      <td>0.150816</td>\n",
       "      <td>0.046950</td>\n",
       "      <td>-0.132689</td>\n",
       "      <td>1.000000</td>\n",
       "      <td>0.259239</td>\n",
       "      <td>-0.166915</td>\n",
       "      <td>0.073626</td>\n",
       "      <td>-0.242023</td>\n",
       "      <td>-0.030256</td>\n",
       "      <td>0.196328</td>\n",
       "      <td>0.140327</td>\n",
       "      <td>0.094813</td>\n",
       "      <td>0.182420</td>\n",
       "      <td>-0.073626</td>\n",
       "      <td>0.162893</td>\n",
       "      <td>0.186178</td>\n",
       "      <td>0.010487</td>\n",
       "      <td>-0.011696</td>\n",
       "      <td>0.033902</td>\n",
       "      <td>0.062361</td>\n",
       "      <td>-0.067305</td>\n",
       "      <td>0.110097</td>\n",
       "      <td>0.204275</td>\n",
       "    </tr>\n",
       "    <tr>\n",
       "      <td>Fedu</td>\n",
       "      <td>0.055204</td>\n",
       "      <td>0.026688</td>\n",
       "      <td>-0.130644</td>\n",
       "      <td>0.052962</td>\n",
       "      <td>0.057343</td>\n",
       "      <td>-0.035037</td>\n",
       "      <td>0.259239</td>\n",
       "      <td>1.000000</td>\n",
       "      <td>0.041069</td>\n",
       "      <td>0.052483</td>\n",
       "      <td>-0.145735</td>\n",
       "      <td>0.002599</td>\n",
       "      <td>0.116157</td>\n",
       "      <td>0.001764</td>\n",
       "      <td>0.091123</td>\n",
       "      <td>0.091358</td>\n",
       "      <td>-0.052483</td>\n",
       "      <td>0.092053</td>\n",
       "      <td>0.076988</td>\n",
       "      <td>-0.023861</td>\n",
       "      <td>0.041368</td>\n",
       "      <td>-0.068130</td>\n",
       "      <td>-0.022938</td>\n",
       "      <td>0.009200</td>\n",
       "      <td>0.006120</td>\n",
       "      <td>0.074607</td>\n",
       "    </tr>\n",
       "    <tr>\n",
       "      <td>traveltime</td>\n",
       "      <td>-0.242390</td>\n",
       "      <td>-0.050521</td>\n",
       "      <td>0.086332</td>\n",
       "      <td>-0.253152</td>\n",
       "      <td>-0.041849</td>\n",
       "      <td>0.092876</td>\n",
       "      <td>-0.166915</td>\n",
       "      <td>0.041069</td>\n",
       "      <td>1.000000</td>\n",
       "      <td>-0.095085</td>\n",
       "      <td>0.052728</td>\n",
       "      <td>0.010209</td>\n",
       "      <td>0.001620</td>\n",
       "      <td>-0.036829</td>\n",
       "      <td>0.000581</td>\n",
       "      <td>-0.028279</td>\n",
       "      <td>0.095085</td>\n",
       "      <td>-0.064970</td>\n",
       "      <td>-0.069722</td>\n",
       "      <td>0.032112</td>\n",
       "      <td>-0.015082</td>\n",
       "      <td>-0.005851</td>\n",
       "      <td>0.054718</td>\n",
       "      <td>-0.048526</td>\n",
       "      <td>0.007200</td>\n",
       "      <td>-0.055078</td>\n",
       "    </tr>\n",
       "    <tr>\n",
       "      <td>studytime</td>\n",
       "      <td>0.093101</td>\n",
       "      <td>0.306941</td>\n",
       "      <td>-0.015196</td>\n",
       "      <td>-0.043854</td>\n",
       "      <td>0.076070</td>\n",
       "      <td>0.003334</td>\n",
       "      <td>0.073626</td>\n",
       "      <td>0.052483</td>\n",
       "      <td>-0.095085</td>\n",
       "      <td>1.000000</td>\n",
       "      <td>-0.167846</td>\n",
       "      <td>0.037954</td>\n",
       "      <td>0.110579</td>\n",
       "      <td>0.213576</td>\n",
       "      <td>0.098237</td>\n",
       "      <td>0.084060</td>\n",
       "      <td>-1.000000</td>\n",
       "      <td>0.170339</td>\n",
       "      <td>0.044926</td>\n",
       "      <td>0.054772</td>\n",
       "      <td>0.044201</td>\n",
       "      <td>-0.120469</td>\n",
       "      <td>-0.051991</td>\n",
       "      <td>-0.065333</td>\n",
       "      <td>-0.077739</td>\n",
       "      <td>0.114716</td>\n",
       "    </tr>\n",
       "    <tr>\n",
       "      <td>failures</td>\n",
       "      <td>-0.051997</td>\n",
       "      <td>-0.020283</td>\n",
       "      <td>0.217057</td>\n",
       "      <td>-0.086257</td>\n",
       "      <td>0.003070</td>\n",
       "      <td>0.022719</td>\n",
       "      <td>-0.242023</td>\n",
       "      <td>-0.145735</td>\n",
       "      <td>0.052728</td>\n",
       "      <td>-0.167846</td>\n",
       "      <td>1.000000</td>\n",
       "      <td>0.015173</td>\n",
       "      <td>-0.077434</td>\n",
       "      <td>-0.171454</td>\n",
       "      <td>-0.076725</td>\n",
       "      <td>-0.090278</td>\n",
       "      <td>0.167846</td>\n",
       "      <td>-0.274645</td>\n",
       "      <td>-0.045904</td>\n",
       "      <td>0.100872</td>\n",
       "      <td>-0.038489</td>\n",
       "      <td>0.082441</td>\n",
       "      <td>0.106340</td>\n",
       "      <td>0.071561</td>\n",
       "      <td>0.103553</td>\n",
       "      <td>-0.338371</td>\n",
       "    </tr>\n",
       "    <tr>\n",
       "      <td>schoolsup</td>\n",
       "      <td>0.136904</td>\n",
       "      <td>0.129629</td>\n",
       "      <td>-0.247986</td>\n",
       "      <td>0.024729</td>\n",
       "      <td>0.020795</td>\n",
       "      <td>-0.047394</td>\n",
       "      <td>-0.030256</td>\n",
       "      <td>0.002599</td>\n",
       "      <td>0.010209</td>\n",
       "      <td>0.037954</td>\n",
       "      <td>0.015173</td>\n",
       "      <td>1.000000</td>\n",
       "      <td>0.100683</td>\n",
       "      <td>-0.035223</td>\n",
       "      <td>0.108392</td>\n",
       "      <td>0.034813</td>\n",
       "      <td>-0.037954</td>\n",
       "      <td>0.046514</td>\n",
       "      <td>-0.001995</td>\n",
       "      <td>-0.055533</td>\n",
       "      <td>0.016407</td>\n",
       "      <td>-0.056990</td>\n",
       "      <td>-0.024836</td>\n",
       "      <td>-0.048658</td>\n",
       "      <td>0.006098</td>\n",
       "      <td>-0.100440</td>\n",
       "    </tr>\n",
       "    <tr>\n",
       "      <td>famsup</td>\n",
       "      <td>0.204981</td>\n",
       "      <td>0.168425</td>\n",
       "      <td>-0.156028</td>\n",
       "      <td>0.042113</td>\n",
       "      <td>0.098273</td>\n",
       "      <td>0.001074</td>\n",
       "      <td>0.196328</td>\n",
       "      <td>0.116157</td>\n",
       "      <td>0.001620</td>\n",
       "      <td>0.110579</td>\n",
       "      <td>-0.077434</td>\n",
       "      <td>0.100683</td>\n",
       "      <td>1.000000</td>\n",
       "      <td>0.239225</td>\n",
       "      <td>-0.024589</td>\n",
       "      <td>0.048342</td>\n",
       "      <td>-0.110579</td>\n",
       "      <td>0.094128</td>\n",
       "      <td>0.087649</td>\n",
       "      <td>0.044677</td>\n",
       "      <td>-0.000479</td>\n",
       "      <td>0.017983</td>\n",
       "      <td>-0.031982</td>\n",
       "      <td>0.017114</td>\n",
       "      <td>0.043220</td>\n",
       "      <td>0.005307</td>\n",
       "    </tr>\n",
       "    <tr>\n",
       "      <td>paid</td>\n",
       "      <td>0.027185</td>\n",
       "      <td>0.115332</td>\n",
       "      <td>-0.021268</td>\n",
       "      <td>0.053730</td>\n",
       "      <td>0.085152</td>\n",
       "      <td>0.024916</td>\n",
       "      <td>0.140327</td>\n",
       "      <td>0.001764</td>\n",
       "      <td>-0.036829</td>\n",
       "      <td>0.213576</td>\n",
       "      <td>-0.171454</td>\n",
       "      <td>-0.035223</td>\n",
       "      <td>0.239225</td>\n",
       "      <td>1.000000</td>\n",
       "      <td>-0.002186</td>\n",
       "      <td>0.112906</td>\n",
       "      <td>-0.213576</td>\n",
       "      <td>0.176741</td>\n",
       "      <td>0.159588</td>\n",
       "      <td>0.069528</td>\n",
       "      <td>-0.023438</td>\n",
       "      <td>-0.053409</td>\n",
       "      <td>0.036978</td>\n",
       "      <td>-0.074702</td>\n",
       "      <td>-0.000808</td>\n",
       "      <td>0.099097</td>\n",
       "    </tr>\n",
       "    <tr>\n",
       "      <td>activities</td>\n",
       "      <td>0.110718</td>\n",
       "      <td>-0.116004</td>\n",
       "      <td>-0.122481</td>\n",
       "      <td>-0.056448</td>\n",
       "      <td>0.020048</td>\n",
       "      <td>0.073694</td>\n",
       "      <td>0.094813</td>\n",
       "      <td>0.091123</td>\n",
       "      <td>0.000581</td>\n",
       "      <td>0.098237</td>\n",
       "      <td>-0.076725</td>\n",
       "      <td>0.108392</td>\n",
       "      <td>-0.024589</td>\n",
       "      <td>-0.002186</td>\n",
       "      <td>1.000000</td>\n",
       "      <td>-0.007707</td>\n",
       "      <td>-0.098237</td>\n",
       "      <td>0.062538</td>\n",
       "      <td>0.061888</td>\n",
       "      <td>-0.041599</td>\n",
       "      <td>0.047327</td>\n",
       "      <td>0.067254</td>\n",
       "      <td>0.021721</td>\n",
       "      <td>0.023777</td>\n",
       "      <td>-0.060966</td>\n",
       "      <td>0.006392</td>\n",
       "    </tr>\n",
       "    <tr>\n",
       "      <td>nursery</td>\n",
       "      <td>0.100322</td>\n",
       "      <td>-0.002567</td>\n",
       "      <td>-0.092961</td>\n",
       "      <td>0.025170</td>\n",
       "      <td>-0.086711</td>\n",
       "      <td>-0.086349</td>\n",
       "      <td>0.182420</td>\n",
       "      <td>0.091358</td>\n",
       "      <td>-0.028279</td>\n",
       "      <td>0.084060</td>\n",
       "      <td>-0.090278</td>\n",
       "      <td>0.034813</td>\n",
       "      <td>0.048342</td>\n",
       "      <td>0.112906</td>\n",
       "      <td>-0.007707</td>\n",
       "      <td>1.000000</td>\n",
       "      <td>-0.084060</td>\n",
       "      <td>0.042772</td>\n",
       "      <td>0.036835</td>\n",
       "      <td>0.019356</td>\n",
       "      <td>-0.011511</td>\n",
       "      <td>-0.053916</td>\n",
       "      <td>-0.018665</td>\n",
       "      <td>-0.000919</td>\n",
       "      <td>0.055172</td>\n",
       "      <td>0.047025</td>\n",
       "    </tr>\n",
       "    <tr>\n",
       "      <td>studytime_granular</td>\n",
       "      <td>-0.093101</td>\n",
       "      <td>-0.306941</td>\n",
       "      <td>0.015196</td>\n",
       "      <td>0.043854</td>\n",
       "      <td>-0.076070</td>\n",
       "      <td>-0.003334</td>\n",
       "      <td>-0.073626</td>\n",
       "      <td>-0.052483</td>\n",
       "      <td>0.095085</td>\n",
       "      <td>-1.000000</td>\n",
       "      <td>0.167846</td>\n",
       "      <td>-0.037954</td>\n",
       "      <td>-0.110579</td>\n",
       "      <td>-0.213576</td>\n",
       "      <td>-0.098237</td>\n",
       "      <td>-0.084060</td>\n",
       "      <td>1.000000</td>\n",
       "      <td>-0.170339</td>\n",
       "      <td>-0.044926</td>\n",
       "      <td>-0.054772</td>\n",
       "      <td>-0.044201</td>\n",
       "      <td>0.120469</td>\n",
       "      <td>0.051991</td>\n",
       "      <td>0.065333</td>\n",
       "      <td>0.077739</td>\n",
       "      <td>-0.114716</td>\n",
       "    </tr>\n",
       "    <tr>\n",
       "      <td>higher</td>\n",
       "      <td>0.035308</td>\n",
       "      <td>0.156967</td>\n",
       "      <td>-0.198709</td>\n",
       "      <td>0.036449</td>\n",
       "      <td>0.031790</td>\n",
       "      <td>-0.067980</td>\n",
       "      <td>0.162893</td>\n",
       "      <td>0.092053</td>\n",
       "      <td>-0.064970</td>\n",
       "      <td>0.170339</td>\n",
       "      <td>-0.274645</td>\n",
       "      <td>0.046514</td>\n",
       "      <td>0.094128</td>\n",
       "      <td>0.176741</td>\n",
       "      <td>0.062538</td>\n",
       "      <td>0.042772</td>\n",
       "      <td>-0.170339</td>\n",
       "      <td>1.000000</td>\n",
       "      <td>0.051317</td>\n",
       "      <td>-0.115163</td>\n",
       "      <td>0.012871</td>\n",
       "      <td>-0.073859</td>\n",
       "      <td>-0.044137</td>\n",
       "      <td>0.004988</td>\n",
       "      <td>0.041887</td>\n",
       "      <td>0.185275</td>\n",
       "    </tr>\n",
       "    <tr>\n",
       "      <td>internet</td>\n",
       "      <td>0.084255</td>\n",
       "      <td>-0.077153</td>\n",
       "      <td>-0.088287</td>\n",
       "      <td>0.206752</td>\n",
       "      <td>-0.013415</td>\n",
       "      <td>0.031472</td>\n",
       "      <td>0.186178</td>\n",
       "      <td>0.076988</td>\n",
       "      <td>-0.069722</td>\n",
       "      <td>0.044926</td>\n",
       "      <td>-0.045904</td>\n",
       "      <td>-0.001995</td>\n",
       "      <td>0.087649</td>\n",
       "      <td>0.159588</td>\n",
       "      <td>0.061888</td>\n",
       "      <td>0.036835</td>\n",
       "      <td>-0.044926</td>\n",
       "      <td>0.051317</td>\n",
       "      <td>1.000000</td>\n",
       "      <td>0.066818</td>\n",
       "      <td>0.064130</td>\n",
       "      <td>0.109957</td>\n",
       "      <td>0.115335</td>\n",
       "      <td>-0.093528</td>\n",
       "      <td>0.085281</td>\n",
       "      <td>0.054134</td>\n",
       "    </tr>\n",
       "    <tr>\n",
       "      <td>romantic</td>\n",
       "      <td>-0.067909</td>\n",
       "      <td>0.134914</td>\n",
       "      <td>0.153272</td>\n",
       "      <td>-0.004733</td>\n",
       "      <td>-0.001918</td>\n",
       "      <td>-0.046347</td>\n",
       "      <td>0.010487</td>\n",
       "      <td>-0.023861</td>\n",
       "      <td>0.032112</td>\n",
       "      <td>0.054772</td>\n",
       "      <td>0.100872</td>\n",
       "      <td>-0.055533</td>\n",
       "      <td>0.044677</td>\n",
       "      <td>0.069528</td>\n",
       "      <td>-0.041599</td>\n",
       "      <td>0.019356</td>\n",
       "      <td>-0.054772</td>\n",
       "      <td>-0.115163</td>\n",
       "      <td>0.066818</td>\n",
       "      <td>1.000000</td>\n",
       "      <td>-0.073270</td>\n",
       "      <td>-0.021788</td>\n",
       "      <td>0.011251</td>\n",
       "      <td>0.017306</td>\n",
       "      <td>0.126885</td>\n",
       "      <td>-0.132069</td>\n",
       "    </tr>\n",
       "    <tr>\n",
       "      <td>famrel</td>\n",
       "      <td>0.039146</td>\n",
       "      <td>-0.045914</td>\n",
       "      <td>0.056258</td>\n",
       "      <td>-0.012965</td>\n",
       "      <td>0.031190</td>\n",
       "      <td>0.020349</td>\n",
       "      <td>-0.011696</td>\n",
       "      <td>0.041368</td>\n",
       "      <td>-0.015082</td>\n",
       "      <td>0.044201</td>\n",
       "      <td>-0.038489</td>\n",
       "      <td>0.016407</td>\n",
       "      <td>-0.000479</td>\n",
       "      <td>-0.023438</td>\n",
       "      <td>0.047327</td>\n",
       "      <td>-0.011511</td>\n",
       "      <td>-0.044201</td>\n",
       "      <td>0.012871</td>\n",
       "      <td>0.064130</td>\n",
       "      <td>-0.073270</td>\n",
       "      <td>1.000000</td>\n",
       "      <td>0.166026</td>\n",
       "      <td>0.067019</td>\n",
       "      <td>0.085641</td>\n",
       "      <td>-0.083029</td>\n",
       "      <td>0.066041</td>\n",
       "    </tr>\n",
       "    <tr>\n",
       "      <td>freetime</td>\n",
       "      <td>-0.022480</td>\n",
       "      <td>-0.224075</td>\n",
       "      <td>0.020399</td>\n",
       "      <td>0.049780</td>\n",
       "      <td>-0.006157</td>\n",
       "      <td>0.044369</td>\n",
       "      <td>0.033902</td>\n",
       "      <td>-0.068130</td>\n",
       "      <td>-0.005851</td>\n",
       "      <td>-0.120469</td>\n",
       "      <td>0.082441</td>\n",
       "      <td>-0.056990</td>\n",
       "      <td>0.017983</td>\n",
       "      <td>-0.053409</td>\n",
       "      <td>0.067254</td>\n",
       "      <td>-0.053916</td>\n",
       "      <td>0.120469</td>\n",
       "      <td>-0.073859</td>\n",
       "      <td>0.109957</td>\n",
       "      <td>-0.021788</td>\n",
       "      <td>0.166026</td>\n",
       "      <td>1.000000</td>\n",
       "      <td>0.282292</td>\n",
       "      <td>0.069288</td>\n",
       "      <td>-0.019537</td>\n",
       "      <td>0.017959</td>\n",
       "    </tr>\n",
       "    <tr>\n",
       "      <td>goout</td>\n",
       "      <td>0.015167</td>\n",
       "      <td>-0.074812</td>\n",
       "      <td>0.133803</td>\n",
       "      <td>0.064421</td>\n",
       "      <td>-0.027109</td>\n",
       "      <td>0.031725</td>\n",
       "      <td>0.062361</td>\n",
       "      <td>-0.022938</td>\n",
       "      <td>0.054718</td>\n",
       "      <td>-0.051991</td>\n",
       "      <td>0.106340</td>\n",
       "      <td>-0.024836</td>\n",
       "      <td>-0.031982</td>\n",
       "      <td>0.036978</td>\n",
       "      <td>0.021721</td>\n",
       "      <td>-0.018665</td>\n",
       "      <td>0.051991</td>\n",
       "      <td>-0.044137</td>\n",
       "      <td>0.115335</td>\n",
       "      <td>0.011251</td>\n",
       "      <td>0.067019</td>\n",
       "      <td>0.282292</td>\n",
       "      <td>1.000000</td>\n",
       "      <td>-0.011436</td>\n",
       "      <td>0.090283</td>\n",
       "      <td>-0.123393</td>\n",
       "    </tr>\n",
       "    <tr>\n",
       "      <td>health</td>\n",
       "      <td>0.054228</td>\n",
       "      <td>-0.142768</td>\n",
       "      <td>-0.064287</td>\n",
       "      <td>-0.035424</td>\n",
       "      <td>0.027580</td>\n",
       "      <td>0.019318</td>\n",
       "      <td>-0.067305</td>\n",
       "      <td>0.009200</td>\n",
       "      <td>-0.048526</td>\n",
       "      <td>-0.065333</td>\n",
       "      <td>0.071561</td>\n",
       "      <td>-0.048658</td>\n",
       "      <td>0.017114</td>\n",
       "      <td>-0.074702</td>\n",
       "      <td>0.023777</td>\n",
       "      <td>-0.000919</td>\n",
       "      <td>0.065333</td>\n",
       "      <td>0.004988</td>\n",
       "      <td>-0.093528</td>\n",
       "      <td>0.017306</td>\n",
       "      <td>0.085641</td>\n",
       "      <td>0.069288</td>\n",
       "      <td>-0.011436</td>\n",
       "      <td>1.000000</td>\n",
       "      <td>-0.046095</td>\n",
       "      <td>-0.081700</td>\n",
       "    </tr>\n",
       "    <tr>\n",
       "      <td>absences</td>\n",
       "      <td>0.097448</td>\n",
       "      <td>0.029109</td>\n",
       "      <td>0.180199</td>\n",
       "      <td>-0.003223</td>\n",
       "      <td>-0.002683</td>\n",
       "      <td>-0.112754</td>\n",
       "      <td>0.110097</td>\n",
       "      <td>0.006120</td>\n",
       "      <td>0.007200</td>\n",
       "      <td>-0.077739</td>\n",
       "      <td>0.103553</td>\n",
       "      <td>0.006098</td>\n",
       "      <td>0.043220</td>\n",
       "      <td>-0.000808</td>\n",
       "      <td>-0.060966</td>\n",
       "      <td>0.055172</td>\n",
       "      <td>0.077739</td>\n",
       "      <td>0.041887</td>\n",
       "      <td>0.085281</td>\n",
       "      <td>0.126885</td>\n",
       "      <td>-0.083029</td>\n",
       "      <td>-0.019537</td>\n",
       "      <td>0.090283</td>\n",
       "      <td>-0.046095</td>\n",
       "      <td>1.000000</td>\n",
       "      <td>0.048256</td>\n",
       "    </tr>\n",
       "    <tr>\n",
       "      <td>score</td>\n",
       "      <td>0.042207</td>\n",
       "      <td>-0.102819</td>\n",
       "      <td>-0.152458</td>\n",
       "      <td>0.120007</td>\n",
       "      <td>-0.071203</td>\n",
       "      <td>-0.047448</td>\n",
       "      <td>0.204275</td>\n",
       "      <td>0.074607</td>\n",
       "      <td>-0.055078</td>\n",
       "      <td>0.114716</td>\n",
       "      <td>-0.338371</td>\n",
       "      <td>-0.100440</td>\n",
       "      <td>0.005307</td>\n",
       "      <td>0.099097</td>\n",
       "      <td>0.006392</td>\n",
       "      <td>0.047025</td>\n",
       "      <td>-0.114716</td>\n",
       "      <td>0.185275</td>\n",
       "      <td>0.054134</td>\n",
       "      <td>-0.132069</td>\n",
       "      <td>0.066041</td>\n",
       "      <td>0.017959</td>\n",
       "      <td>-0.123393</td>\n",
       "      <td>-0.081700</td>\n",
       "      <td>0.048256</td>\n",
       "      <td>1.000000</td>\n",
       "    </tr>\n",
       "  </tbody>\n",
       "</table>\n",
       "</div>"
      ],
      "text/plain": [
       "                      school       sex       age   address   famsize  \\\n",
       "school              1.000000 -0.023485 -0.367364  0.266646  0.052194   \n",
       "sex                -0.023485  1.000000  0.035668 -0.001357  0.080126   \n",
       "age                -0.367364  0.035668  1.000000 -0.137133 -0.008411   \n",
       "address             0.266646 -0.001357 -0.137133  1.000000 -0.057836   \n",
       "famsize             0.052194  0.080126 -0.008411 -0.057836  1.000000   \n",
       "Pstatus            -0.083162 -0.040316  0.045591 -0.070235  0.058323   \n",
       "Medu                0.132883 -0.085393 -0.159511  0.150816  0.046950   \n",
       "Fedu                0.055204  0.026688 -0.130644  0.052962  0.057343   \n",
       "traveltime         -0.242390 -0.050521  0.086332 -0.253152 -0.041849   \n",
       "studytime           0.093101  0.306941 -0.015196 -0.043854  0.076070   \n",
       "failures           -0.051997 -0.020283  0.217057 -0.086257  0.003070   \n",
       "schoolsup           0.136904  0.129629 -0.247986  0.024729  0.020795   \n",
       "famsup              0.204981  0.168425 -0.156028  0.042113  0.098273   \n",
       "paid                0.027185  0.115332 -0.021268  0.053730  0.085152   \n",
       "activities          0.110718 -0.116004 -0.122481 -0.056448  0.020048   \n",
       "nursery             0.100322 -0.002567 -0.092961  0.025170 -0.086711   \n",
       "studytime_granular -0.093101 -0.306941  0.015196  0.043854 -0.076070   \n",
       "higher              0.035308  0.156967 -0.198709  0.036449  0.031790   \n",
       "internet            0.084255 -0.077153 -0.088287  0.206752 -0.013415   \n",
       "romantic           -0.067909  0.134914  0.153272 -0.004733 -0.001918   \n",
       "famrel              0.039146 -0.045914  0.056258 -0.012965  0.031190   \n",
       "freetime           -0.022480 -0.224075  0.020399  0.049780 -0.006157   \n",
       "goout               0.015167 -0.074812  0.133803  0.064421 -0.027109   \n",
       "health              0.054228 -0.142768 -0.064287 -0.035424  0.027580   \n",
       "absences            0.097448  0.029109  0.180199 -0.003223 -0.002683   \n",
       "score               0.042207 -0.102819 -0.152458  0.120007 -0.071203   \n",
       "\n",
       "                     Pstatus      Medu      Fedu  traveltime  studytime  \\\n",
       "school             -0.083162  0.132883  0.055204   -0.242390   0.093101   \n",
       "sex                -0.040316 -0.085393  0.026688   -0.050521   0.306941   \n",
       "age                 0.045591 -0.159511 -0.130644    0.086332  -0.015196   \n",
       "address            -0.070235  0.150816  0.052962   -0.253152  -0.043854   \n",
       "famsize             0.058323  0.046950  0.057343   -0.041849   0.076070   \n",
       "Pstatus             1.000000 -0.132689 -0.035037    0.092876   0.003334   \n",
       "Medu               -0.132689  1.000000  0.259239   -0.166915   0.073626   \n",
       "Fedu               -0.035037  0.259239  1.000000    0.041069   0.052483   \n",
       "traveltime          0.092876 -0.166915  0.041069    1.000000  -0.095085   \n",
       "studytime           0.003334  0.073626  0.052483   -0.095085   1.000000   \n",
       "failures            0.022719 -0.242023 -0.145735    0.052728  -0.167846   \n",
       "schoolsup          -0.047394 -0.030256  0.002599    0.010209   0.037954   \n",
       "famsup              0.001074  0.196328  0.116157    0.001620   0.110579   \n",
       "paid                0.024916  0.140327  0.001764   -0.036829   0.213576   \n",
       "activities          0.073694  0.094813  0.091123    0.000581   0.098237   \n",
       "nursery            -0.086349  0.182420  0.091358   -0.028279   0.084060   \n",
       "studytime_granular -0.003334 -0.073626 -0.052483    0.095085  -1.000000   \n",
       "higher             -0.067980  0.162893  0.092053   -0.064970   0.170339   \n",
       "internet            0.031472  0.186178  0.076988   -0.069722   0.044926   \n",
       "romantic           -0.046347  0.010487 -0.023861    0.032112   0.054772   \n",
       "famrel              0.020349 -0.011696  0.041368   -0.015082   0.044201   \n",
       "freetime            0.044369  0.033902 -0.068130   -0.005851  -0.120469   \n",
       "goout               0.031725  0.062361 -0.022938    0.054718  -0.051991   \n",
       "health              0.019318 -0.067305  0.009200   -0.048526  -0.065333   \n",
       "absences           -0.112754  0.110097  0.006120    0.007200  -0.077739   \n",
       "score              -0.047448  0.204275  0.074607   -0.055078   0.114716   \n",
       "\n",
       "                    failures  schoolsup    famsup      paid  activities  \\\n",
       "school             -0.051997   0.136904  0.204981  0.027185    0.110718   \n",
       "sex                -0.020283   0.129629  0.168425  0.115332   -0.116004   \n",
       "age                 0.217057  -0.247986 -0.156028 -0.021268   -0.122481   \n",
       "address            -0.086257   0.024729  0.042113  0.053730   -0.056448   \n",
       "famsize             0.003070   0.020795  0.098273  0.085152    0.020048   \n",
       "Pstatus             0.022719  -0.047394  0.001074  0.024916    0.073694   \n",
       "Medu               -0.242023  -0.030256  0.196328  0.140327    0.094813   \n",
       "Fedu               -0.145735   0.002599  0.116157  0.001764    0.091123   \n",
       "traveltime          0.052728   0.010209  0.001620 -0.036829    0.000581   \n",
       "studytime          -0.167846   0.037954  0.110579  0.213576    0.098237   \n",
       "failures            1.000000   0.015173 -0.077434 -0.171454   -0.076725   \n",
       "schoolsup           0.015173   1.000000  0.100683 -0.035223    0.108392   \n",
       "famsup             -0.077434   0.100683  1.000000  0.239225   -0.024589   \n",
       "paid               -0.171454  -0.035223  0.239225  1.000000   -0.002186   \n",
       "activities         -0.076725   0.108392 -0.024589 -0.002186    1.000000   \n",
       "nursery            -0.090278   0.034813  0.048342  0.112906   -0.007707   \n",
       "studytime_granular  0.167846  -0.037954 -0.110579 -0.213576   -0.098237   \n",
       "higher             -0.274645   0.046514  0.094128  0.176741    0.062538   \n",
       "internet           -0.045904  -0.001995  0.087649  0.159588    0.061888   \n",
       "romantic            0.100872  -0.055533  0.044677  0.069528   -0.041599   \n",
       "famrel             -0.038489   0.016407 -0.000479 -0.023438    0.047327   \n",
       "freetime            0.082441  -0.056990  0.017983 -0.053409    0.067254   \n",
       "goout               0.106340  -0.024836 -0.031982  0.036978    0.021721   \n",
       "health              0.071561  -0.048658  0.017114 -0.074702    0.023777   \n",
       "absences            0.103553   0.006098  0.043220 -0.000808   -0.060966   \n",
       "score              -0.338371  -0.100440  0.005307  0.099097    0.006392   \n",
       "\n",
       "                     nursery  studytime_granular    higher  internet  \\\n",
       "school              0.100322           -0.093101  0.035308  0.084255   \n",
       "sex                -0.002567           -0.306941  0.156967 -0.077153   \n",
       "age                -0.092961            0.015196 -0.198709 -0.088287   \n",
       "address             0.025170            0.043854  0.036449  0.206752   \n",
       "famsize            -0.086711           -0.076070  0.031790 -0.013415   \n",
       "Pstatus            -0.086349           -0.003334 -0.067980  0.031472   \n",
       "Medu                0.182420           -0.073626  0.162893  0.186178   \n",
       "Fedu                0.091358           -0.052483  0.092053  0.076988   \n",
       "traveltime         -0.028279            0.095085 -0.064970 -0.069722   \n",
       "studytime           0.084060           -1.000000  0.170339  0.044926   \n",
       "failures           -0.090278            0.167846 -0.274645 -0.045904   \n",
       "schoolsup           0.034813           -0.037954  0.046514 -0.001995   \n",
       "famsup              0.048342           -0.110579  0.094128  0.087649   \n",
       "paid                0.112906           -0.213576  0.176741  0.159588   \n",
       "activities         -0.007707           -0.098237  0.062538  0.061888   \n",
       "nursery             1.000000           -0.084060  0.042772  0.036835   \n",
       "studytime_granular -0.084060            1.000000 -0.170339 -0.044926   \n",
       "higher              0.042772           -0.170339  1.000000  0.051317   \n",
       "internet            0.036835           -0.044926  0.051317  1.000000   \n",
       "romantic            0.019356           -0.054772 -0.115163  0.066818   \n",
       "famrel             -0.011511           -0.044201  0.012871  0.064130   \n",
       "freetime           -0.053916            0.120469 -0.073859  0.109957   \n",
       "goout              -0.018665            0.051991 -0.044137  0.115335   \n",
       "health             -0.000919            0.065333  0.004988 -0.093528   \n",
       "absences            0.055172            0.077739  0.041887  0.085281   \n",
       "score               0.047025           -0.114716  0.185275  0.054134   \n",
       "\n",
       "                    romantic    famrel  freetime     goout    health  \\\n",
       "school             -0.067909  0.039146 -0.022480  0.015167  0.054228   \n",
       "sex                 0.134914 -0.045914 -0.224075 -0.074812 -0.142768   \n",
       "age                 0.153272  0.056258  0.020399  0.133803 -0.064287   \n",
       "address            -0.004733 -0.012965  0.049780  0.064421 -0.035424   \n",
       "famsize            -0.001918  0.031190 -0.006157 -0.027109  0.027580   \n",
       "Pstatus            -0.046347  0.020349  0.044369  0.031725  0.019318   \n",
       "Medu                0.010487 -0.011696  0.033902  0.062361 -0.067305   \n",
       "Fedu               -0.023861  0.041368 -0.068130 -0.022938  0.009200   \n",
       "traveltime          0.032112 -0.015082 -0.005851  0.054718 -0.048526   \n",
       "studytime           0.054772  0.044201 -0.120469 -0.051991 -0.065333   \n",
       "failures            0.100872 -0.038489  0.082441  0.106340  0.071561   \n",
       "schoolsup          -0.055533  0.016407 -0.056990 -0.024836 -0.048658   \n",
       "famsup              0.044677 -0.000479  0.017983 -0.031982  0.017114   \n",
       "paid                0.069528 -0.023438 -0.053409  0.036978 -0.074702   \n",
       "activities         -0.041599  0.047327  0.067254  0.021721  0.023777   \n",
       "nursery             0.019356 -0.011511 -0.053916 -0.018665 -0.000919   \n",
       "studytime_granular -0.054772 -0.044201  0.120469  0.051991  0.065333   \n",
       "higher             -0.115163  0.012871 -0.073859 -0.044137  0.004988   \n",
       "internet            0.066818  0.064130  0.109957  0.115335 -0.093528   \n",
       "romantic            1.000000 -0.073270 -0.021788  0.011251  0.017306   \n",
       "famrel             -0.073270  1.000000  0.166026  0.067019  0.085641   \n",
       "freetime           -0.021788  0.166026  1.000000  0.282292  0.069288   \n",
       "goout               0.011251  0.067019  0.282292  1.000000 -0.011436   \n",
       "health              0.017306  0.085641  0.069288 -0.011436  1.000000   \n",
       "absences            0.126885 -0.083029 -0.019537  0.090283 -0.046095   \n",
       "score              -0.132069  0.066041  0.017959 -0.123393 -0.081700   \n",
       "\n",
       "                    absences     score  \n",
       "school              0.097448  0.042207  \n",
       "sex                 0.029109 -0.102819  \n",
       "age                 0.180199 -0.152458  \n",
       "address            -0.003223  0.120007  \n",
       "famsize            -0.002683 -0.071203  \n",
       "Pstatus            -0.112754 -0.047448  \n",
       "Medu                0.110097  0.204275  \n",
       "Fedu                0.006120  0.074607  \n",
       "traveltime          0.007200 -0.055078  \n",
       "studytime          -0.077739  0.114716  \n",
       "failures            0.103553 -0.338371  \n",
       "schoolsup           0.006098 -0.100440  \n",
       "famsup              0.043220  0.005307  \n",
       "paid               -0.000808  0.099097  \n",
       "activities         -0.060966  0.006392  \n",
       "nursery             0.055172  0.047025  \n",
       "studytime_granular  0.077739 -0.114716  \n",
       "higher              0.041887  0.185275  \n",
       "internet            0.085281  0.054134  \n",
       "romantic            0.126885 -0.132069  \n",
       "famrel             -0.083029  0.066041  \n",
       "freetime           -0.019537  0.017959  \n",
       "goout               0.090283 -0.123393  \n",
       "health             -0.046095 -0.081700  \n",
       "absences            1.000000  0.048256  \n",
       "score               0.048256  1.000000  "
      ]
     },
     "execution_count": 200,
     "metadata": {},
     "output_type": "execute_result"
    }
   ],
   "source": [
    "# построим матрицу корреляций\n",
    "data.corr()"
   ]
  },
  {
   "cell_type": "markdown",
   "metadata": {},
   "source": [
    "Признаки studytime studytime_granular полностью скоррелированы, поэтому оставим только первый признак."
   ]
  },
  {
   "cell_type": "code",
   "execution_count": 209,
   "metadata": {},
   "outputs": [],
   "source": [
    "data.drop('studytime_granular', inplace = True, axis = 1)"
   ]
  },
  {
   "cell_type": "markdown",
   "metadata": {},
   "source": [
    "Также умеренно скоррелированы признаки Medu и Fedu (это может означать, что в большом количестве случаев отцы и матеои учеников имеют примерно равный уровень образования), paid и famsup (чем больше образовательная поддержка в семье, чем чаще ученики посещают платные занятия по математике), failures и higher (чем меньше у ученика внеучебных неудач, тем больше его решимость получить высшее образование), freetime и goout (чем больше у учеников свободного времени после школы, тем чаще они проводят время с друзьями), school и age (в школе GP ученики более младшего возраста), sex и studytime (девочки больше уделяют времени учебе вне школы). "
   ]
  },
  {
   "cell_type": "markdown",
   "metadata": {},
   "source": [
    "Присутствует довольно логичная корреляция целевой переменной со следующими признаками: age (чем меньше возраст, тем выше баллы), Medu и Fedu (чем выше уровень образования родителей, тем выше баллы), studytime (чем больше времени ученик уделяет учебе вне школы, тем выше баллы), failures (чем меньше у ученика внеучебных неудач, тем выше баллы), romantic и goout (кто не состоит в романтических отношениях и меньше времени проводит с друзьями, у того выше баллы), higher (у учеников, которые хотят получить высшее образование, обычно выше баллы), schoolsup (у учеников, не получающих дополнительную образовательную поддержку в школе, баллы выше - это наверно потому, что дополнительные занятия обычно бывают у отстающих). Также присутствует корреляция признака address и целевой переменной (у учеников, проживающих в городе, баллы выше). И небольшая, но совсем нелогичная для меня корреляция: absences (при росте количества пропусков балл выше - может это актуально для учеников, участвующих в олимпиадах и конференциях, и поэтому пропускающих занятия), health (чем хуже здоровье учеников, тем баллы несколько выше)."
   ]
  },
  {
   "cell_type": "code",
   "execution_count": null,
   "metadata": {},
   "outputs": [],
   "source": [
    "# проанализируем номинативные признаки"
   ]
  },
  {
   "cell_type": "code",
   "execution_count": 201,
   "metadata": {},
   "outputs": [],
   "source": [
    "def get_boxplot(column):\n",
    "    fig, ax = plt.subplots(figsize = (14, 4))\n",
    "    sns.boxplot(x=column, y='score', \n",
    "                data=data.loc[data.loc[:, column].isin(data.loc[:, column].value_counts().index[:])],\n",
    "               ax=ax)\n",
    "    plt.xticks(rotation=45)\n",
    "    ax.set_title('Boxplot for ' + column)\n",
    "    plt.show()"
   ]
  },
  {
   "cell_type": "code",
   "execution_count": 202,
   "metadata": {},
   "outputs": [
    {
     "data": {
      "image/png": "[encoded data removed]",
      "text/plain": [
       "<Figure size 1008x288 with 1 Axes>"
      ]
     },
     "metadata": {
      "needs_background": "light"
     },
     "output_type": "display_data"
    },
    {
     "data": {
      "image/png": "[encoded data removed]",
      "text/plain": [
       "<Figure size 1008x288 with 1 Axes>"
      ]
     },
     "metadata": {
      "needs_background": "light"
     },
     "output_type": "display_data"
    },
    {
     "data": {
      "image/png": "[encoded data removed]",
      "text/plain": [
       "<Figure size 1008x288 with 1 Axes>"
      ]
     },
     "metadata": {
      "needs_background": "light"
     },
     "output_type": "display_data"
    },
    {
     "data": {
      "image/png": "[encoded data removed]",
      "text/plain": [
       "<Figure size 1008x288 with 1 Axes>"
      ]
     },
     "metadata": {
      "needs_background": "light"
     },
     "output_type": "display_data"
    }
   ],
   "source": [
    "for col in ['Mjob', 'Fjob', 'reason', 'guardian']:\n",
    "    get_boxplot(col)"
   ]
  },
  {
   "cell_type": "markdown",
   "metadata": {},
   "source": [
    "Проверим, есть ли статистическая разница в распределении оценок по номинативным признакам, с помощью теста Стьюдента."
   ]
  },
  {
   "cell_type": "code",
   "execution_count": 203,
   "metadata": {},
   "outputs": [],
   "source": [
    "def get_stat_dif(column):\n",
    "    cols = data.loc[:, column].value_counts().index[:]\n",
    "    combinations_all = list(combinations(cols, 2))\n",
    "    for comb in combinations_all:\n",
    "        if ttest_ind(data.loc[data.loc[:, column] == comb[0], 'score'], \n",
    "                        data.loc[data.loc[:, column] == comb[1], 'score']).pvalue \\\n",
    "            <= 0.05/len(combinations_all): # Учли поправку Бонферони\n",
    "            print('Найдены статистически значимые различия для колонки', column)\n",
    "            break"
   ]
  },
  {
   "cell_type": "code",
   "execution_count": 204,
   "metadata": {},
   "outputs": [
    {
     "name": "stdout",
     "output_type": "stream",
     "text": [
      "Найдены статистически значимые различия для колонки Mjob\n"
     ]
    }
   ],
   "source": [
    "for col in ['Mjob', 'Fjob', 'reason', 'guardian']:\n",
    "    get_stat_dif(col)"
   ]
  },
  {
   "cell_type": "markdown",
   "metadata": {},
   "source": [
    "Анализ показал, что статистически значимые различия есть только для колонки Mjob, оставим ее в датасете, а Fjob, reason и guardian уберем."
   ]
  },
  {
   "cell_type": "code",
   "execution_count": 207,
   "metadata": {},
   "outputs": [],
   "source": [
    "data = data.drop(['Fjob', 'reason', 'guardian'], axis = 1)"
   ]
  },
  {
   "cell_type": "code",
   "execution_count": 210,
   "metadata": {},
   "outputs": [
    {
     "name": "stdout",
     "output_type": "stream",
     "text": [
      "<class 'pandas.core.frame.DataFrame'>\n",
      "Int64Index: 390 entries, 0 to 394\n",
      "Data columns (total 26 columns):\n",
      "school        390 non-null int64\n",
      "sex           390 non-null int64\n",
      "age           390 non-null int64\n",
      "address       390 non-null int64\n",
      "famsize       390 non-null int64\n",
      "Pstatus       390 non-null int64\n",
      "Medu          390 non-null float64\n",
      "Fedu          390 non-null float64\n",
      "Mjob          390 non-null object\n",
      "traveltime    390 non-null float64\n",
      "studytime     390 non-null float64\n",
      "failures      390 non-null float64\n",
      "schoolsup     390 non-null float64\n",
      "famsup        390 non-null float64\n",
      "paid          390 non-null float64\n",
      "activities    390 non-null float64\n",
      "nursery       390 non-null float64\n",
      "higher        390 non-null float64\n",
      "internet      390 non-null float64\n",
      "romantic      390 non-null float64\n",
      "famrel        390 non-null float64\n",
      "freetime      390 non-null float64\n",
      "goout         390 non-null float64\n",
      "health        390 non-null float64\n",
      "absences      390 non-null float64\n",
      "score         384 non-null float64\n",
      "dtypes: float64(19), int64(6), object(1)\n",
      "memory usage: 82.3+ KB\n"
     ]
    }
   ],
   "source": [
    "data.info()"
   ]
  },
  {
   "cell_type": "markdown",
   "metadata": {},
   "source": [
    "Выводы:\n",
    "\n",
    "1. В достаточно большом количестве признаков были пропущенные значений, большинство из которых удалось устранить.\n",
    "\n",
    "2. Выбросы были найдены только в столбцах Fedu, famrel и absences, что говорит о том, что данные довольно чистые.\n",
    "\n",
    "3. Присутствует довольно логичная корреляция целевой переменной со следующими признаками: age (чем меньше возраст, тем выше баллы), Medu и Fedu (чем выше уровень образования родителей, тем выше баллы), studytime (чем больше времени ученик уделяет учебе вне школы, тем выше баллы), failures (чем меньше у ученика внеучебных неудач, тем выше баллы), romantic и goout (кто не состоит в романтических отношениях и меньше времени проводит с друзьями, у того выше баллы), higher (у учеников, которые хотят получить высшее образование, обычно выше баллы), schoolsup (у учеников, не получающих дополнительную образовательную поддержку в школе, баллы выше - это наверно потому, что дополнительные занятия обычно бывают у отстающих). Также присутствует корреляция признака address и целевой переменной (у учеников, проживающих в городе, баллы выше). И небольшая, но совсем нелогичная для меня корреляция: absences (при росте количества пропусков балл выше - может это актуально для учеников, участвующих в олимпиадах и конференциях, и поэтому пропускающих занятия), health (чем хуже здоровье учеников, тем баллы несколько выше).\n",
    "\n",
    "4. Самые важные параметры, которые предлагается использовать в дальнейшем для построения модели, это:\n",
    "school        \n",
    "sex           \n",
    "age           \n",
    "address       \n",
    "famsize       \n",
    "Pstatus       \n",
    "Medu          \n",
    "Fedu          \n",
    "Mjob          \n",
    "traveltime    \n",
    "studytime     \n",
    "failures      \n",
    "schoolsup     \n",
    "famsup        \n",
    "paid          \n",
    "activities    \n",
    "nursery       \n",
    "higher        \n",
    "internet      \n",
    "romantic      \n",
    "famrel        \n",
    "freetime      \n",
    "goout         \n",
    "health        \n",
    "absences      "
   ]
  }
 ],
 "metadata": {
  "kernelspec": {
   "display_name": "Python 3",
   "language": "python",
   "name": "python3"
  },
  "language_info": {
   "codemirror_mode": {
    "name": "ipython",
    "version": 3
   },
   "file_extension": ".py",
   "mimetype": "text/x-python",
   "name": "python",
   "nbconvert_exporter": "python",
   "pygments_lexer": "ipython3",
   "version": "3.7.4"
  }
 },
 "nbformat": 4,
 "nbformat_minor": 2
}
